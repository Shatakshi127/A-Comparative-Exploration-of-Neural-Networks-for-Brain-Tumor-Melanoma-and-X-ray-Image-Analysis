{
 "cells": [
  {
   "cell_type": "code",
   "execution_count": 1,
   "metadata": {
    "_cell_guid": "b1076dfc-b9ad-4769-8c92-a6c4dae69d19",
    "_uuid": "8f2839f25d086af736a60e9eeb907d3b93b6e0e5",
    "execution": {
     "iopub.execute_input": "2021-03-03T05:10:09.213620Z",
     "iopub.status.busy": "2021-03-03T05:10:09.212711Z",
     "iopub.status.idle": "2021-03-03T05:10:09.477535Z",
     "shell.execute_reply": "2021-03-03T05:10:09.476353Z"
    },
    "papermill": {
     "duration": 0.315009,
     "end_time": "2021-03-03T05:10:09.477662",
     "exception": false,
     "start_time": "2021-03-03T05:10:09.162653",
     "status": "completed"
    },
    "tags": []
   },
   "outputs": [],
   "source": [
    "import numpy as np\n",
    "import pandas as pd\n",
    "import glob\n",
    "import cv2\n",
    "import matplotlib.pyplot as plt"
   ]
  },
  {
   "cell_type": "code",
   "execution_count": 2,
   "metadata": {
    "_cell_guid": "79c7e3d0-c299-4dcb-8224-4455121ee9b0",
    "_uuid": "d629ff2d2480ee46fbb7e2d37f6b5fab8052498a",
    "execution": {
     "iopub.execute_input": "2021-03-03T05:10:09.569763Z",
     "iopub.status.busy": "2021-03-03T05:10:09.569074Z",
     "iopub.status.idle": "2021-03-03T05:10:09.670929Z",
     "shell.execute_reply": "2021-03-03T05:10:09.669831Z"
    },
    "papermill": {
     "duration": 0.151187,
     "end_time": "2021-03-03T05:10:09.671048",
     "exception": false,
     "start_time": "2021-03-03T05:10:09.519861",
     "status": "completed"
    },
    "tags": []
   },
   "outputs": [],
   "source": [
    "train_dir='/kaggle/input/siim-isic-melanoma-classification/jpeg/train/'\n",
    "train=pd.read_csv('/kaggle/input/siim-isic-melanoma-classification/train.csv')"
   ]
  },
  {
   "cell_type": "code",
   "execution_count": null,
   "metadata": {
    "execution": {
     "iopub.execute_input": "2021-03-03T05:10:09.773245Z",
     "iopub.status.busy": "2021-03-03T05:10:09.772314Z",
     "iopub.status.idle": "2021-03-03T05:10:09.783902Z",
     "shell.execute_reply": "2021-03-03T05:10:09.784599Z"
    },
    "papermill": {
     "duration": 0.069493,
     "end_time": "2021-03-03T05:10:09.784747",
     "exception": false,
     "start_time": "2021-03-03T05:10:09.715254",
     "status": "completed"
    },
    "tags": []
   },
   "outputs": [],
   "source": [
    "train.head()"
   ]
  },
  {
   "cell_type": "code",
   "execution_count": null,
   "metadata": {
    "execution": {
     "iopub.execute_input": "2021-03-03T05:10:09.969221Z",
     "iopub.status.busy": "2021-03-03T05:10:09.968366Z",
     "iopub.status.idle": "2021-03-03T05:10:10.013216Z",
     "shell.execute_reply": "2021-03-03T05:10:10.012444Z"
    },
    "papermill": {
     "duration": 0.094286,
     "end_time": "2021-03-03T05:10:10.013353",
     "exception": false,
     "start_time": "2021-03-03T05:10:09.919067",
     "status": "completed"
    },
    "tags": []
   },
   "outputs": [],
   "source": [
    "train['path'] = train_dir + train.image_name + \".jpg\"\n",
    "train.head()"
   ]
  },
  {
   "cell_type": "code",
   "execution_count": null,
   "metadata": {
    "execution": {
     "iopub.execute_input": "2021-03-03T05:10:10.197431Z",
     "iopub.status.busy": "2021-03-03T05:10:10.196642Z",
     "iopub.status.idle": "2021-03-03T05:10:12.988901Z",
     "shell.execute_reply": "2021-03-03T05:10:12.988238Z"
    },
    "papermill": {
     "duration": 2.842265,
     "end_time": "2021-03-03T05:10:12.989038",
     "exception": false,
     "start_time": "2021-03-03T05:10:10.146773",
     "status": "completed"
    },
    "tags": []
   },
   "outputs": [],
   "source": [
    "img=cv2.imread('../input/siim-isic-melanoma-classification/jpeg/train/ISIC_0015719.jpg')   \n",
    "img = cv2.cvtColor(img, cv2.COLOR_BGR2RGB)\n",
    "plt.imshow(img)"
   ]
  },
  {
   "cell_type": "code",
   "execution_count": 6,
   "metadata": {
    "execution": {
     "iopub.execute_input": "2021-03-03T05:10:13.249916Z",
     "iopub.status.busy": "2021-03-03T05:10:13.248916Z",
     "iopub.status.idle": "2021-03-03T05:10:13.255038Z",
     "shell.execute_reply": "2021-03-03T05:10:13.255613Z"
    },
    "papermill": {
     "duration": 0.075892,
     "end_time": "2021-03-03T05:10:13.255767",
     "exception": false,
     "start_time": "2021-03-03T05:10:13.179875",
     "status": "completed"
    },
    "tags": []
   },
   "outputs": [
    {
     "data": {
      "text/plain": [
       "0    32542\n",
       "1      584\n",
       "Name: target, dtype: int64"
      ]
     },
     "execution_count": 6,
     "metadata": {},
     "output_type": "execute_result"
    }
   ],
   "source": [
    "train.target.value_counts()"
   ]
  },
  {
   "cell_type": "code",
   "execution_count": 7,
   "metadata": {
    "execution": {
     "iopub.execute_input": "2021-03-03T05:10:13.544231Z",
     "iopub.status.busy": "2021-03-03T05:10:13.542926Z",
     "iopub.status.idle": "2021-03-03T05:10:13.616546Z",
     "shell.execute_reply": "2021-03-03T05:10:13.615915Z"
    },
    "papermill": {
     "duration": 0.159669,
     "end_time": "2021-03-03T05:10:13.616662",
     "exception": false,
     "start_time": "2021-03-03T05:10:13.456993",
     "status": "completed"
    },
    "tags": []
   },
   "outputs": [],
   "source": [
    "df_0=train[train['target']==0].sample(600)\n",
    "df_1=train[train['target']==1]\n",
    "train=pd.concat([df_0,df_1])\n",
    "train=train.reset_index()"
   ]
  },
  {
   "cell_type": "code",
   "execution_count": 8,
   "metadata": {
    "execution": {
     "iopub.execute_input": "2021-03-03T05:10:13.723617Z",
     "iopub.status.busy": "2021-03-03T05:10:13.722854Z",
     "iopub.status.idle": "2021-03-03T05:10:13.729426Z",
     "shell.execute_reply": "2021-03-03T05:10:13.728805Z"
    },
    "papermill": {
     "duration": 0.062339,
     "end_time": "2021-03-03T05:10:13.729539",
     "exception": false,
     "start_time": "2021-03-03T05:10:13.667200",
     "status": "completed"
    },
    "tags": []
   },
   "outputs": [
    {
     "data": {
      "text/plain": [
       "(1184, 10)"
      ]
     },
     "execution_count": 8,
     "metadata": {},
     "output_type": "execute_result"
    }
   ],
   "source": [
    "train.shape"
   ]
  },
  {
   "cell_type": "code",
   "execution_count": null,
   "metadata": {
    "execution": {
     "iopub.execute_input": "2021-03-03T05:10:13.852032Z",
     "iopub.status.busy": "2021-03-03T05:10:13.851015Z",
     "iopub.status.idle": "2021-03-03T05:10:13.855690Z",
     "shell.execute_reply": "2021-03-03T05:10:13.856342Z"
    },
    "papermill": {
     "duration": 0.075766,
     "end_time": "2021-03-03T05:10:13.856487",
     "exception": false,
     "start_time": "2021-03-03T05:10:13.780721",
     "status": "completed"
    },
    "tags": []
   },
   "outputs": [],
   "source": [
    "train.head()"
   ]
  },
  {
   "cell_type": "code",
   "execution_count": 10,
   "metadata": {
    "execution": {
     "iopub.execute_input": "2021-03-03T05:10:13.978999Z",
     "iopub.status.busy": "2021-03-03T05:10:13.976957Z",
     "iopub.status.idle": "2021-03-03T05:10:13.979771Z",
     "shell.execute_reply": "2021-03-03T05:10:13.980339Z"
    },
    "papermill": {
     "duration": 0.064922,
     "end_time": "2021-03-03T05:10:13.980484",
     "exception": false,
     "start_time": "2021-03-03T05:10:13.915562",
     "status": "completed"
    },
    "tags": []
   },
   "outputs": [],
   "source": [
    "IMG_DIM = (128, 128)"
   ]
  },
  {
   "cell_type": "code",
   "execution_count": 11,
   "metadata": {
    "execution": {
     "iopub.execute_input": "2021-03-03T05:10:14.091883Z",
     "iopub.status.busy": "2021-03-03T05:10:14.091036Z",
     "iopub.status.idle": "2021-03-03T05:10:19.195899Z",
     "shell.execute_reply": "2021-03-03T05:10:19.194173Z"
    },
    "papermill": {
     "duration": 5.161958,
     "end_time": "2021-03-03T05:10:19.196059",
     "exception": false,
     "start_time": "2021-03-03T05:10:14.034101",
     "status": "completed"
    },
    "tags": []
   },
   "outputs": [],
   "source": [
    "from keras.preprocessing.image import ImageDataGenerator, load_img, img_to_array, array_to_img"
   ]
  },
  {
   "cell_type": "code",
   "execution_count": 12,
   "metadata": {
    "execution": {
     "iopub.execute_input": "2021-03-03T05:10:19.309595Z",
     "iopub.status.busy": "2021-03-03T05:10:19.308761Z",
     "iopub.status.idle": "2021-03-03T05:10:20.049015Z",
     "shell.execute_reply": "2021-03-03T05:10:20.048405Z"
    },
    "papermill": {
     "duration": 0.799268,
     "end_time": "2021-03-03T05:10:20.049136",
     "exception": false,
     "start_time": "2021-03-03T05:10:19.249868",
     "status": "completed"
    },
    "tags": []
   },
   "outputs": [],
   "source": [
    "from sklearn.model_selection import train_test_split\n",
    "X_train, X_val, y_train, y_val = train_test_split(train, train.target, test_size=0.2, random_state=42)"
   ]
  },
  {
   "cell_type": "code",
   "execution_count": 13,
   "metadata": {
    "execution": {
     "iopub.execute_input": "2021-03-03T05:10:20.163013Z",
     "iopub.status.busy": "2021-03-03T05:10:20.162346Z",
     "iopub.status.idle": "2021-03-03T05:14:01.729014Z",
     "shell.execute_reply": "2021-03-03T05:14:01.729625Z"
    },
    "papermill": {
     "duration": 221.62855,
     "end_time": "2021-03-03T05:14:01.729783",
     "exception": false,
     "start_time": "2021-03-03T05:10:20.101233",
     "status": "completed"
    },
    "tags": []
   },
   "outputs": [
    {
     "name": "stdout",
     "output_type": "stream",
     "text": [
      "Train dataset shape: (947, 128, 128, 3) \tValidation dataset shape: (237, 128, 128, 3)\n"
     ]
    }
   ],
   "source": [
    "train_files = X_train.path\n",
    "val_files = X_val.path\n",
    "\n",
    "train_imgs = [img_to_array(load_img(img, target_size=IMG_DIM)) for img in train_files]\n",
    "validation_imgs = [img_to_array(load_img(img, target_size=IMG_DIM)) for img in val_files]\n",
    "\n",
    "train_imgs = np.array(train_imgs)\n",
    "train_labels = y_train\n",
    "\n",
    "validation_imgs = np.array(validation_imgs)\n",
    "val_labels = y_val\n",
    "\n",
    "\n",
    "print('Train dataset shape:', train_imgs.shape, \n",
    "      '\\tValidation dataset shape:', validation_imgs.shape)"
   ]
  },
  {
   "cell_type": "code",
   "execution_count": null,
   "metadata": {
    "execution": {
     "iopub.execute_input": "2021-03-03T05:14:01.937700Z",
     "iopub.status.busy": "2021-03-03T05:14:01.936482Z",
     "iopub.status.idle": "2021-03-03T05:14:02.063029Z",
     "shell.execute_reply": "2021-03-03T05:14:02.063640Z"
    },
    "papermill": {
     "duration": 0.183013,
     "end_time": "2021-03-03T05:14:02.063793",
     "exception": false,
     "start_time": "2021-03-03T05:14:01.880780",
     "status": "completed"
    },
    "tags": []
   },
   "outputs": [],
   "source": [
    "train_imgs_scaled = train_imgs.astype('float32')\n",
    "\n",
    "validation_imgs_scaled  = validation_imgs.astype('float32')\n",
    "\n",
    "train_imgs_scaled /= 255\n",
    "validation_imgs_scaled /= 255\n",
    "\n",
    "print(train_imgs[0].shape)\n",
    "\n",
    "array_to_img(train_imgs[0])"
   ]
  },
  {
   "cell_type": "code",
   "execution_count": 15,
   "metadata": {
    "execution": {
     "iopub.execute_input": "2021-03-03T05:14:02.477844Z",
     "iopub.status.busy": "2021-03-03T05:14:02.476929Z",
     "iopub.status.idle": "2021-03-03T05:14:02.480115Z",
     "shell.execute_reply": "2021-03-03T05:14:02.479611Z"
    },
    "papermill": {
     "duration": 0.058554,
     "end_time": "2021-03-03T05:14:02.480215",
     "exception": false,
     "start_time": "2021-03-03T05:14:02.421661",
     "status": "completed"
    },
    "tags": []
   },
   "outputs": [],
   "source": [
    "batch_size = 30\n",
    "num_classes = 2\n",
    "epochs = 30\n",
    "input_shape = (128, 128, 3)"
   ]
  },
  {
   "cell_type": "code",
   "execution_count": null,
   "metadata": {
    "execution": {
     "iopub.execute_input": "2021-03-03T05:14:03.901049Z",
     "iopub.status.busy": "2021-03-03T05:14:03.890825Z",
     "iopub.status.idle": "2021-03-03T05:14:06.554161Z",
     "shell.execute_reply": "2021-03-03T05:14:06.552875Z"
    },
    "papermill": {
     "duration": 2.745973,
     "end_time": "2021-03-03T05:14:06.554370",
     "exception": false,
     "start_time": "2021-03-03T05:14:03.808397",
     "status": "completed"
    },
    "tags": []
   },
   "outputs": [],
   "source": [
    "from keras.layers import Conv2D, MaxPooling2D, Flatten, Dense, Dropout\n",
    "\n",
    "from keras.models import Sequential\n",
    "\n",
    "from keras import optimizers\n",
    "\n",
    "model = Sequential()\n",
    "\n",
    "\n",
    "model.add(Conv2D(16, kernel_size=(3, 3), activation='relu', \n",
    "                 input_shape=input_shape))\n",
    "model.add(MaxPooling2D(pool_size=(2, 2)))\n",
    "\n",
    "\n",
    "model.add(Conv2D(64, kernel_size=(3, 3), activation='relu'))\n",
    "model.add(MaxPooling2D(pool_size=(2, 2)))\n",
    "\n",
    "model.add(Conv2D(128, kernel_size=(3, 3), activation='relu'))\n",
    "model.add(MaxPooling2D(pool_size=(2, 2)))\n",
    "\n",
    "model.add(Flatten())\n",
    "model.add(Dense(512, activation='relu'))\n",
    "model.add(Dense(1, activation='sigmoid'))\n",
    "\n",
    "\n",
    "model.compile(loss='binary_crossentropy',\n",
    "              optimizer=optimizers.RMSprop(),\n",
    "              metrics=['accuracy'])\n",
    "\n",
    "model.summary()"
   ]
  },
  {
   "cell_type": "code",
   "execution_count": null,
   "metadata": {
    "execution": {
     "iopub.execute_input": "2021-03-03T05:14:06.811905Z",
     "iopub.status.busy": "2021-03-03T05:14:06.810963Z",
     "iopub.status.idle": "2021-03-03T05:14:24.869079Z",
     "shell.execute_reply": "2021-03-03T05:14:24.870099Z"
    },
    "papermill": {
     "duration": 18.121108,
     "end_time": "2021-03-03T05:14:24.870282",
     "exception": false,
     "start_time": "2021-03-03T05:14:06.749174",
     "status": "completed"
    },
    "tags": []
   },
   "outputs": [],
   "source": [
    "history = model.fit(x=train_imgs_scaled, y=train_labels,\n",
    "                    validation_data=(validation_imgs_scaled, val_labels),\n",
    "                    batch_size=batch_size,\n",
    "                    epochs=epochs,\n",
    "                    verbose=1)"
   ]
  },
  {
   "cell_type": "code",
   "execution_count": null,
   "metadata": {
    "execution": {
     "iopub.execute_input": "2021-03-03T05:14:25.580232Z",
     "iopub.status.busy": "2021-03-03T05:14:25.570955Z",
     "iopub.status.idle": "2021-03-03T05:14:26.027720Z",
     "shell.execute_reply": "2021-03-03T05:14:26.029056Z"
    },
    "papermill": {
     "duration": 0.702002,
     "end_time": "2021-03-03T05:14:26.029339",
     "exception": false,
     "start_time": "2021-03-03T05:14:25.327337",
     "status": "completed"
    },
    "tags": []
   },
   "outputs": [],
   "source": [
    "f, (ax1, ax2) = plt.subplots(1, 2, figsize=(12, 4))\n",
    "t = f.suptitle('Basic CNN Performance', fontsize=12)\n",
    "f.subplots_adjust(top=0.85, wspace=0.3)\n",
    "\n",
    "epoch_list = list(range(1,31))\n",
    "ax1.plot(epoch_list, history.history['accuracy'], label='Train Accuracy')\n",
    "ax1.plot(epoch_list, history.history['val_accuracy'], label='Validation Accuracy')\n",
    "ax1.set_xticks(np.arange(0, 31, 5))\n",
    "ax1.set_ylabel('Accuracy Value')\n",
    "ax1.set_xlabel('Epoch')\n",
    "ax1.set_title('Accuracy')\n",
    "l1 = ax1.legend(loc=\"best\")\n",
    "\n",
    "ax2.plot(epoch_list, history.history['loss'], label='Train Loss')\n",
    "ax2.plot(epoch_list, history.history['val_loss'], label='Validation Loss')\n",
    "ax2.set_xticks(np.arange(0, 31, 5))\n",
    "ax2.set_ylabel('Loss Value')\n",
    "ax2.set_xlabel('Epoch')\n",
    "ax2.set_title('Loss')\n",
    "l2 = ax2.legend(loc=\"best\")"
   ]
  },
  {
   "cell_type": "code",
   "execution_count": null,
   "metadata": {
    "execution": {
     "iopub.execute_input": "2021-03-03T05:14:26.960506Z",
     "iopub.status.busy": "2021-03-03T05:14:26.956606Z",
     "iopub.status.idle": "2021-03-03T05:14:41.151551Z",
     "shell.execute_reply": "2021-03-03T05:14:41.150995Z"
    },
    "papermill": {
     "duration": 14.357082,
     "end_time": "2021-03-03T05:14:41.151669",
     "exception": false,
     "start_time": "2021-03-03T05:14:26.794587",
     "status": "completed"
    },
    "tags": []
   },
   "outputs": [],
   "source": [
    "model = Sequential()\n",
    "\n",
    "model.add(Conv2D(16, kernel_size=(3, 3), activation='relu',\n",
    "                 input_shape=input_shape))\n",
    "model.add(MaxPooling2D(pool_size=(2, 2)))\n",
    "\n",
    "model.add(Conv2D(64, kernel_size=(3, 3), activation='relu'))\n",
    "model.add(MaxPooling2D(pool_size=(2, 2)))\n",
    "\n",
    "model.add(Conv2D(128, kernel_size=(3, 3), activation='relu'))\n",
    "model.add(MaxPooling2D(pool_size=(2, 2)))\n",
    "\n",
    "model.add(Conv2D(128, kernel_size=(3, 3), activation='relu'))\n",
    "model.add(MaxPooling2D(pool_size=(2, 2)))\n",
    "\n",
    "model.add(Flatten())\n",
    "model.add(Dense(512, activation='relu'))\n",
    "model.add(Dropout(0.3))\n",
    "model.add(Dense(512, activation='relu'))\n",
    "model.add(Dropout(0.3))\n",
    "model.add(Dense(1, activation='sigmoid'))\n",
    "\n",
    "\n",
    "model.compile(loss='binary_crossentropy',\n",
    "              optimizer=optimizers.RMSprop(),\n",
    "              metrics=['accuracy'])\n",
    "              \n",
    "              \n",
    "history = model.fit(x=train_imgs_scaled, y=train_labels,\n",
    "                    validation_data=(validation_imgs_scaled, val_labels),\n",
    "                    batch_size=batch_size,\n",
    "                    epochs=epochs,\n",
    "                    verbose=1)                      "
   ]
  },
  {
   "cell_type": "code",
   "execution_count": null,
   "metadata": {
    "execution": {
     "iopub.execute_input": "2021-03-03T05:14:41.649070Z",
     "iopub.status.busy": "2021-03-03T05:14:41.643090Z",
     "iopub.status.idle": "2021-03-03T05:14:41.954267Z",
     "shell.execute_reply": "2021-03-03T05:14:41.954904Z"
    },
    "papermill": {
     "duration": 0.565799,
     "end_time": "2021-03-03T05:14:41.955050",
     "exception": false,
     "start_time": "2021-03-03T05:14:41.389251",
     "status": "completed"
    },
    "tags": []
   },
   "outputs": [],
   "source": [
    "f, (ax1, ax2) = plt.subplots(1, 2, figsize=(12, 4))\n",
    "t = f.suptitle('CNN Model with Regularization', fontsize=12)\n",
    "f.subplots_adjust(top=0.85, wspace=0.3)\n",
    "\n",
    "epoch_list = list(range(1,31))\n",
    "ax1.plot(epoch_list, history.history['accuracy'], label='Train Accuracy')\n",
    "ax1.plot(epoch_list, history.history['val_accuracy'], label='Validation Accuracy')\n",
    "ax1.set_xticks(np.arange(0, 31, 5))\n",
    "ax1.set_ylabel('Accuracy Value')\n",
    "ax1.set_xlabel('Epoch')\n",
    "ax1.set_title('Accuracy')\n",
    "l1 = ax1.legend(loc=\"best\")\n",
    "\n",
    "ax2.plot(epoch_list, history.history['loss'], label='Train Loss')\n",
    "ax2.plot(epoch_list, history.history['val_loss'], label='Validation Loss')\n",
    "ax2.set_xticks(np.arange(0, 31, 5))\n",
    "ax2.set_ylabel('Loss Value')\n",
    "ax2.set_xlabel('Epoch')\n",
    "ax2.set_title('Loss')\n",
    "l2 = ax2.legend(loc=\"best\")"
   ]
  },
  {
   "cell_type": "code",
   "execution_count": 21,
   "metadata": {
    "execution": {
     "iopub.execute_input": "2021-03-03T05:14:43.373602Z",
     "iopub.status.busy": "2021-03-03T05:14:43.372393Z",
     "iopub.status.idle": "2021-03-03T05:14:43.374378Z",
     "shell.execute_reply": "2021-03-03T05:14:43.374888Z"
    },
    "papermill": {
     "duration": 0.242127,
     "end_time": "2021-03-03T05:14:43.375012",
     "exception": false,
     "start_time": "2021-03-03T05:14:43.132885",
     "status": "completed"
    },
    "tags": []
   },
   "outputs": [],
   "source": [
    "train_datagen = ImageDataGenerator(rescale=1./255, zoom_range=0.3, rotation_range=50,\n",
    "                                   width_shift_range=0.2, height_shift_range=0.2, shear_range=0.2, \n",
    "                                   horizontal_flip=True, fill_mode='nearest')\n",
    "\n",
    "val_datagen = ImageDataGenerator(rescale=1./255)"
   ]
  },
  {
   "cell_type": "code",
   "execution_count": null,
   "metadata": {
    "execution": {
     "iopub.execute_input": "2021-03-03T05:14:44.782310Z",
     "iopub.status.busy": "2021-03-03T05:14:44.781408Z",
     "iopub.status.idle": "2021-03-03T05:14:45.736692Z",
     "shell.execute_reply": "2021-03-03T05:14:45.737226Z"
    },
    "papermill": {
     "duration": 1.195984,
     "end_time": "2021-03-03T05:14:45.737392",
     "exception": false,
     "start_time": "2021-03-03T05:14:44.541408",
     "status": "completed"
    },
    "tags": []
   },
   "outputs": [],
   "source": [
    "img_id = 1\n",
    "\n",
    "img_generator = train_datagen.flow(train_imgs[img_id:img_id+1], train_labels[img_id:img_id+1],\n",
    "                                   batch_size=1)\n",
    "\n",
    "img = [next(img_generator) for i in range(0,5)]\n",
    "\n",
    "fig, ax = plt.subplots(1,5, figsize=(16, 6))\n",
    "print('Labels:', [item[1][0] for item in img])\n",
    "l = [ax[i].imshow(img[i][0][0]) for i in range(0,5)]"
   ]
  },
  {
   "cell_type": "code",
   "execution_count": null,
   "metadata": {
    "execution": {
     "iopub.execute_input": "2021-03-03T05:14:47.910047Z",
     "iopub.status.busy": "2021-03-03T05:14:47.909113Z",
     "iopub.status.idle": "2021-03-03T05:21:52.175587Z",
     "shell.execute_reply": "2021-03-03T05:21:52.174763Z"
    },
    "papermill": {
     "duration": 424.645384,
     "end_time": "2021-03-03T05:21:52.175719",
     "exception": false,
     "start_time": "2021-03-03T05:14:47.530335",
     "status": "completed"
    },
    "tags": []
   },
   "outputs": [],
   "source": [
    "train_generator = train_datagen.flow(train_imgs, train_labels, batch_size=30)\n",
    "val_generator = val_datagen.flow(validation_imgs, val_labels, batch_size=20)\n",
    "\n",
    "input_shape = input_shape\n",
    "\n",
    "model = Sequential()\n",
    "\n",
    "model.add(Conv2D(16, kernel_size=(3, 3), activation='relu', \n",
    "                 input_shape=input_shape))\n",
    "model.add(MaxPooling2D(pool_size=(2, 2)))\n",
    "\n",
    "model.add(Conv2D(64, kernel_size=(3, 3), activation='relu'))\n",
    "model.add(MaxPooling2D(pool_size=(2, 2)))\n",
    "\n",
    "model.add(Conv2D(128, kernel_size=(3, 3), activation='relu'))\n",
    "model.add(MaxPooling2D(pool_size=(2, 2)))\n",
    "\n",
    "model.add(Conv2D(128, kernel_size=(3, 3), activation='relu'))\n",
    "model.add(MaxPooling2D(pool_size=(2, 2)))\n",
    "\n",
    "model.add(Flatten())\n",
    "model.add(Dense(512, activation='relu'))\n",
    "model.add(Dropout(0.3))\n",
    "model.add(Dense(512, activation='relu'))\n",
    "model.add(Dropout(0.3))\n",
    "model.add(Dense(1, activation='sigmoid'))\n",
    "\n",
    "model.compile(loss='binary_crossentropy',\n",
    "              optimizer=optimizers.RMSprop(lr=1e-4),\n",
    "              metrics=['accuracy'])\n",
    "              \n",
    "history = model.fit_generator(train_generator, steps_per_epoch=32, epochs=100,\n",
    "                              validation_data=val_generator, validation_steps=12, \n",
    "                              verbose=1)"
   ]
  },
  {
   "cell_type": "code",
   "execution_count": null,
   "metadata": {
    "execution": {
     "iopub.execute_input": "2021-03-03T05:21:55.423198Z",
     "iopub.status.busy": "2021-03-03T05:21:55.413695Z",
     "iopub.status.idle": "2021-03-03T05:21:55.797494Z",
     "shell.execute_reply": "2021-03-03T05:21:55.797976Z"
    },
    "papermill": {
     "duration": 2.174825,
     "end_time": "2021-03-03T05:21:55.798106",
     "exception": false,
     "start_time": "2021-03-03T05:21:53.623281",
     "status": "completed"
    },
    "tags": []
   },
   "outputs": [],
   "source": [
    "f, (ax1, ax2) = plt.subplots(1, 2, figsize=(12, 4))\n",
    "t = f.suptitle('CNN with Regularization & Augmentation', fontsize=12)\n",
    "f.subplots_adjust(top=0.85, wspace=0.3)\n",
    "\n",
    "epoch_list = list(range(1,101))\n",
    "ax1.plot(epoch_list, history.history['accuracy'], label='Train Accuracy')\n",
    "ax1.plot(epoch_list, history.history['val_accuracy'], label='Validation Accuracy')\n",
    "ax1.set_xticks(np.arange(0, 101, 5))\n",
    "ax1.set_ylabel('Accuracy Value')\n",
    "ax1.set_xlabel('Epoch')\n",
    "ax1.set_title('Accuracy')\n",
    "l1 = ax1.legend(loc=\"best\")\n",
    "\n",
    "ax2.plot(epoch_list, history.history['loss'], label='Train Loss')\n",
    "ax2.plot(epoch_list, history.history['val_loss'], label='Validation Loss')\n",
    "ax2.set_xticks(np.arange(0, 101, 5))\n",
    "ax2.set_ylabel('Loss Value')\n",
    "ax2.set_xlabel('Epoch')\n",
    "ax2.set_title('Loss')\n",
    "l2 = ax2.legend(loc=\"best\")"
   ]
  },
  {
   "cell_type": "code",
   "execution_count": null,
   "metadata": {
    "execution": {
     "iopub.execute_input": "2021-03-03T05:22:05.008073Z",
     "iopub.status.busy": "2021-03-03T05:22:05.005421Z",
     "iopub.status.idle": "2021-03-03T05:22:05.012556Z",
     "shell.execute_reply": "2021-03-03T05:22:05.011627Z"
    },
    "papermill": {
     "duration": 1.485622,
     "end_time": "2021-03-03T05:22:05.012724",
     "exception": false,
     "start_time": "2021-03-03T05:22:03.527102",
     "status": "completed"
    },
    "tags": []
   },
   "outputs": [],
   "source": [
    "\n",
    "for l in model.layers:\n",
    "    print(l.name,l)"
   ]
  },
  {
   "cell_type": "code",
   "execution_count": null,
   "metadata": {
    "execution": {
     "iopub.execute_input": "2021-03-03T05:22:08.197955Z",
     "iopub.status.busy": "2021-03-03T05:22:08.197001Z",
     "iopub.status.idle": "2021-03-03T05:22:08.832790Z",
     "shell.execute_reply": "2021-03-03T05:22:08.833440Z"
    },
    "papermill": {
     "duration": 2.344774,
     "end_time": "2021-03-03T05:22:08.833591",
     "exception": false,
     "start_time": "2021-03-03T05:22:06.488817",
     "status": "completed"
    },
    "tags": []
   },
   "outputs": [],
   "source": [
    "\n",
    "layer_dict = dict([(layer.name, layer) for layer in model.layers])\n",
    "\n",
    "layer_name = 'conv2d_7'\n",
    "filter_index = 0 # index of the filter we will visualize\n",
    "\n",
    "filters, biases = layer_dict[layer_name].get_weights()\n",
    "\n",
    "f_min, f_max = np.amin(filters), np.amax(filters)\n",
    "filters = (filters - f_min) / (f_max - f_min)\n",
    "\n",
    "n_filters, index = 6, 1\n",
    "for i in range(n_filters):\n",
    "    f = filters[:, :, :, i]\n",
    "    \n",
    "    for j in range(3):\n",
    "\n",
    "        ax = plt.subplot(n_filters, 3, index)\n",
    "        ax.set_xticks([])\n",
    "        ax.set_yticks([])\n",
    "        \n",
    "        plt.imshow(f[:, :, j], cmap='viridis') \n",
    "        index += 1\n",
    "        \n",
    "plt.show()"
   ]
  }
 ],
 "metadata": {
  "kernelspec": {
   "display_name": "Python 3",
   "language": "python",
   "name": "python3"
  },
  "language_info": {
   "codemirror_mode": {
    "name": "ipython",
    "version": 3
   },
   "file_extension": ".py",
   "mimetype": "text/x-python",
   "name": "python",
   "nbconvert_exporter": "python",
   "pygments_lexer": "ipython3",
   "version": "3.7.6"
  },
  "papermill": {
   "duration": 733.485252,
   "end_time": "2021-03-03T05:22:17.312709",
   "environment_variables": {},
   "exception": null,
   "input_path": "__notebook__.ipynb",
   "output_path": "__notebook__.ipynb",
   "parameters": {},
   "start_time": "2021-03-03T05:10:03.827457",
   "version": "2.1.0"
  }
 },
 "nbformat": 4,
 "nbformat_minor": 4
}
