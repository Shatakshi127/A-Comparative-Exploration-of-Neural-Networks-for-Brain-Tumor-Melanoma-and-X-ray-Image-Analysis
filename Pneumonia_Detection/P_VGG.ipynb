{
 "cells": [
  {
   "cell_type": "code",
   "execution_count": null,
   "id": "d5074cb3",
   "metadata": {
    "_cell_guid": "b1076dfc-b9ad-4769-8c92-a6c4dae69d19",
    "_uuid": "8f2839f25d086af736a60e9eeb907d3b93b6e0e5",
    "execution": {
     "iopub.execute_input": "2024-02-20T12:12:57.286618Z",
     "iopub.status.busy": "2024-02-20T12:12:57.286228Z",
     "iopub.status.idle": "2024-02-20T12:13:03.318335Z",
     "shell.execute_reply": "2024-02-20T12:13:03.317544Z"
    },
    "papermill": {
     "duration": 6.042773,
     "end_time": "2024-02-20T12:13:03.320603",
     "exception": false,
     "start_time": "2024-02-20T12:12:57.277830",
     "status": "completed"
    },
    "scrolled": true,
    "tags": []
   },
   "outputs": [],
   "source": [
    "%matplotlib inline\n",
    "import copy\n",
    "import matplotlib.pyplot as plt\n",
    "import numpy as np\n",
    "import pandas as pd \n",
    "import os\n",
    "import seaborn as sns\n",
    "import skimage\n",
    "from skimage import io, transform\n",
    "from sklearn.metrics import confusion_matrix\n",
    "import torch\n",
    "import torch.nn as nn\n",
    "import torch.optim as optim\n",
    "import torchvision\n",
    "from torchvision import datasets, models, transforms"
   ]
  },
  {
   "cell_type": "code",
   "execution_count": 2,
   "id": "2749dc83",
   "metadata": {
    "_uuid": "a085308769971ac9a887dab713c4334df755463e",
    "execution": {
     "iopub.execute_input": "2024-02-20T12:13:03.352635Z",
     "iopub.status.busy": "2024-02-20T12:13:03.352237Z",
     "iopub.status.idle": "2024-02-20T12:13:03.356444Z",
     "shell.execute_reply": "2024-02-20T12:13:03.355666Z"
    },
    "papermill": {
     "duration": 0.014422,
     "end_time": "2024-02-20T12:13:03.358301",
     "exception": false,
     "start_time": "2024-02-20T12:13:03.343879",
     "status": "completed"
    },
    "tags": []
   },
   "outputs": [],
   "source": [
    "EPOCHS = 30\n",
    "data_dir = \"../input/chest-xray-pneumonia/chest_xray/chest_xray\"\n",
    "TEST = 'test'\n",
    "TRAIN = 'train'\n",
    "VAL ='val'"
   ]
  },
  {
   "cell_type": "code",
   "execution_count": null,
   "id": "205fd85c",
   "metadata": {
    "_uuid": "3d225783b44656fe1a1a97f309cac6b40e578d7a",
    "execution": {
     "iopub.execute_input": "2024-02-20T12:13:03.388808Z",
     "iopub.status.busy": "2024-02-20T12:13:03.388530Z",
     "iopub.status.idle": "2024-02-20T12:13:03.453312Z",
     "shell.execute_reply": "2024-02-20T12:13:03.452336Z"
    },
    "papermill": {
     "duration": 0.074762,
     "end_time": "2024-02-20T12:13:03.455147",
     "exception": false,
     "start_time": "2024-02-20T12:13:03.380385",
     "status": "completed"
    },
    "tags": []
   },
   "outputs": [],
   "source": [
    "def data_transforms(phase):\n",
    "    if phase == TRAIN:\n",
    "        transform = transforms.Compose([\n",
    "            transforms.Resize(256),  \n",
    "            transforms.CenterCrop(224), \n",
    "            transforms.ToTensor(), \n",
    "            transforms.Normalize([0.485, 0.456, 0.406], [0.229, 0.224, 0.225]),  # Normalize the Tensor\n",
    "        ])\n",
    "        \n",
    "    if phase == VAL:\n",
    "        transform = transforms.Compose([\n",
    "            transforms.Resize(256),\n",
    "            transforms.CenterCrop(224),\n",
    "            transforms.ToTensor(),\n",
    "            transforms.Normalize([0.485, 0.456, 0.406], [0.229, 0.224, 0.225]),\n",
    "        ])\n",
    "    \n",
    "    if phase == TEST:\n",
    "        transform = transforms.Compose([\n",
    "            transforms.Resize(256),\n",
    "            transforms.CenterCrop(224),\n",
    "            transforms.ToTensor(),\n",
    "            transforms.Normalize([0.485, 0.456, 0.406], [0.229, 0.224, 0.225]),\n",
    "        ])        \n",
    "        \n",
    "    return transform \n",
    "\n",
    "device = torch.device(\"cuda:0\" if torch.cuda.is_available() else \"cpu\")\n",
    "print(device)  # Print the device being used\n"
   ]
  },
  {
   "cell_type": "code",
   "execution_count": 4,
   "id": "3df79f24",
   "metadata": {
    "_uuid": "d26865aa0bf2ead92c0f10a0b90b786190d3653b",
    "execution": {
     "iopub.execute_input": "2024-02-20T12:13:03.471335Z",
     "iopub.status.busy": "2024-02-20T12:13:03.471077Z",
     "iopub.status.idle": "2024-02-20T12:13:07.688074Z",
     "shell.execute_reply": "2024-02-20T12:13:07.687238Z"
    },
    "papermill": {
     "duration": 4.227612,
     "end_time": "2024-02-20T12:13:07.690353",
     "exception": false,
     "start_time": "2024-02-20T12:13:03.462741",
     "status": "completed"
    },
    "tags": []
   },
   "outputs": [],
   "source": [
    "\n",
    "image_datasets = {x: datasets.ImageFolder(os.path.join(data_dir, x), data_transforms(x)) \n",
    "                  for x in [TRAIN, VAL, TEST]}\n",
    "\n",
    "dataloaders = {\n",
    "    TRAIN: torch.utils.data.DataLoader(image_datasets[TRAIN], batch_size = 4, shuffle=True), \n",
    "    VAL: torch.utils.data.DataLoader(image_datasets[VAL], batch_size = 1, shuffle=True), \n",
    "    TEST: torch.utils.data.DataLoader(image_datasets[TEST], batch_size = 1, shuffle=True)\n",
    "}\n"
   ]
  },
  {
   "cell_type": "code",
   "execution_count": null,
   "id": "58146a91",
   "metadata": {
    "_uuid": "334b931f0c48bc3d8b8df5d28d0c28f53fcb5391",
    "execution": {
     "iopub.execute_input": "2024-02-20T12:13:07.707273Z",
     "iopub.status.busy": "2024-02-20T12:13:07.706997Z",
     "iopub.status.idle": "2024-02-20T12:13:07.713306Z",
     "shell.execute_reply": "2024-02-20T12:13:07.712469Z"
    },
    "papermill": {
     "duration": 0.016919,
     "end_time": "2024-02-20T12:13:07.715225",
     "exception": false,
     "start_time": "2024-02-20T12:13:07.698306",
     "status": "completed"
    },
    "tags": []
   },
   "outputs": [],
   "source": [
    "len(dataloaders[TRAIN])"
   ]
  },
  {
   "cell_type": "code",
   "execution_count": 6,
   "id": "fe24dd1c",
   "metadata": {
    "_uuid": "2f8733bbbd9369fb75c871d66e552d8c3171476f",
    "execution": {
     "iopub.execute_input": "2024-02-20T12:13:07.731535Z",
     "iopub.status.busy": "2024-02-20T12:13:07.731285Z",
     "iopub.status.idle": "2024-02-20T12:13:07.735964Z",
     "shell.execute_reply": "2024-02-20T12:13:07.735079Z"
    },
    "papermill": {
     "duration": 0.014871,
     "end_time": "2024-02-20T12:13:07.737756",
     "exception": false,
     "start_time": "2024-02-20T12:13:07.722885",
     "status": "completed"
    },
    "tags": []
   },
   "outputs": [],
   "source": [
    "dataset_sizes = {\n",
    "    x: len(image_datasets[x]) \n",
    "    for x in [TRAIN, VAL]\n",
    "}\n",
    "\n",
    "classes = image_datasets[TRAIN].classes\n",
    "\n",
    "class_names = image_datasets[TRAIN].classes\n"
   ]
  },
  {
   "cell_type": "code",
   "execution_count": null,
   "id": "b2516ccd",
   "metadata": {
    "_uuid": "3735bccee0248363ea457b98af01c9e745e6c172",
    "execution": {
     "iopub.execute_input": "2024-02-20T12:13:07.769339Z",
     "iopub.status.busy": "2024-02-20T12:13:07.769036Z",
     "iopub.status.idle": "2024-02-20T12:13:13.573579Z",
     "shell.execute_reply": "2024-02-20T12:13:13.572629Z"
    },
    "papermill": {
     "duration": 5.820497,
     "end_time": "2024-02-20T12:13:13.581058",
     "exception": false,
     "start_time": "2024-02-20T12:13:07.760561",
     "status": "completed"
    },
    "tags": []
   },
   "outputs": [],
   "source": [
    "fig, axes = plt.subplots(6, 6, figsize=(12, 12))\n",
    "fig.subplots_adjust(hspace=0.3, wspace=0.3)\n",
    "\n",
    "for i in range(6):\n",
    "    for j in range(6):\n",
    "        inputs, classes = next(iter(dataloaders[TRAIN]))\n",
    "        input_img = inputs[0]\n",
    "        class_label = classes[0]\n",
    "        inp = input_img.numpy().transpose((1, 2, 0))\n",
    "        mean = np.array([0.485, 0.456, 0.406])\n",
    "        std = np.array([0.229, 0.224, 0.225])\n",
    "        inp = std * inp + mean\n",
    "        inp = np.clip(inp, 0, 1)\n",
    "        axes[i, j].imshow(inp)\n",
    "        axes[i, j].set_title(class_names[class_label.item()])\n",
    "        axes[i, j].axis('off')\n",
    "\n",
    "plt.show()\n"
   ]
  },
  {
   "cell_type": "code",
   "execution_count": 8,
   "id": "ccd2351b",
   "metadata": {
    "_uuid": "45c60a298e32560aa4843652aa52348bbf360484",
    "execution": {
     "iopub.execute_input": "2024-02-20T12:13:13.615859Z",
     "iopub.status.busy": "2024-02-20T12:13:13.615516Z",
     "iopub.status.idle": "2024-02-20T12:13:13.723825Z",
     "shell.execute_reply": "2024-02-20T12:13:13.722987Z"
    },
    "papermill": {
     "duration": 0.128025,
     "end_time": "2024-02-20T12:13:13.726155",
     "exception": false,
     "start_time": "2024-02-20T12:13:13.598130",
     "status": "completed"
    },
    "tags": []
   },
   "outputs": [],
   "source": [
    "inputs, classes = next(iter(dataloaders[TRAIN]))"
   ]
  },
  {
   "cell_type": "code",
   "execution_count": 9,
   "id": "6f820d64",
   "metadata": {
    "_uuid": "ef502f365bf5b30fddab9df0c24f9d8e2b994655",
    "execution": {
     "iopub.execute_input": "2024-02-20T12:13:13.794210Z",
     "iopub.status.busy": "2024-02-20T12:13:13.793545Z",
     "iopub.status.idle": "2024-02-20T12:13:13.804952Z",
     "shell.execute_reply": "2024-02-20T12:13:13.804079Z"
    },
    "papermill": {
     "duration": 0.030948,
     "end_time": "2024-02-20T12:13:13.806827",
     "exception": false,
     "start_time": "2024-02-20T12:13:13.775879",
     "status": "completed"
    },
    "tags": []
   },
   "outputs": [],
   "source": [
    "def train_model(model, criterion, optimizer, scheduler, num_epochs):\n",
    "    best_model_wts = copy.deepcopy(model.state_dict())\n",
    "    best_acc = 0.0\n",
    "    \n",
    "    for epoch in range(num_epochs):\n",
    "        print(\"Epoch: {}/{}\".format(epoch+1, num_epochs))\n",
    "        print(\"=\"*10)\n",
    "        \n",
    "        for phase in [TRAIN, VAL]:\n",
    "            if phase == TRAIN:\n",
    "                scheduler.step()\n",
    "                model.train() \n",
    "            else:\n",
    "                model.eval()   # Set model to evaluate mode\n",
    "\n",
    "            running_loss = 0.0\n",
    "            running_corrects = 0\n",
    "\n",
    "            # Iterate over data\n",
    "            for data in dataloaders[phase]:\n",
    "                inputs, labels = data\n",
    "                inputs = inputs.to(device)\n",
    "                labels = labels.to(device)\n",
    "\n",
    "                optimizer.zero_grad()\n",
    "\n",
    "                # Forward pass\n",
    "                with torch.set_grad_enabled(phase==TRAIN):\n",
    "                    outputs = model(inputs)\n",
    "                    _, preds = torch.max(outputs, 1)\n",
    "                    loss = criterion(outputs, labels)\n",
    "\n",
    "                    if phase == 'train':\n",
    "                        loss.backward()\n",
    "                        optimizer.step()\n",
    "\n",
    "                running_loss += loss.item() * inputs.size(0)\n",
    "                running_corrects += torch.sum(preds == labels.data)\n",
    "\n",
    "            epoch_loss = running_loss / dataset_sizes[phase]\n",
    "            epoch_acc = running_corrects.double() / dataset_sizes[phase]\n",
    "\n",
    "            print('{} Loss: {:.4f} Acc: {:.4f}'.format(\n",
    "                phase, epoch_loss, epoch_acc))\n",
    "\n",
    "            if phase == 'val' and epoch_acc > best_acc:\n",
    "                best_acc = epoch_acc\n",
    "                best_model_wts = copy.deepcopy(model.state_dict())\n",
    "\n",
    "    print('Best val Acc: {:4f}'.format(best_acc))\n",
    "\n",
    "    model.load_state_dict(best_model_wts)\n",
    "    return model\n"
   ]
  },
  {
   "cell_type": "code",
   "execution_count": null,
   "id": "20851da2",
   "metadata": {
    "_uuid": "bf8e30fc2773dfd38c66149bf6adc36e20d34a0c",
    "execution": {
     "iopub.execute_input": "2024-02-20T12:13:13.872829Z",
     "iopub.status.busy": "2024-02-20T12:13:13.872521Z",
     "iopub.status.idle": "2024-02-20T12:13:22.325964Z",
     "shell.execute_reply": "2024-02-20T12:13:22.325101Z"
    },
    "papermill": {
     "duration": 8.472729,
     "end_time": "2024-02-20T12:13:22.328140",
     "exception": false,
     "start_time": "2024-02-20T12:13:13.855411",
     "status": "completed"
    },
    "tags": []
   },
   "outputs": [],
   "source": [
    "model_pre = models.vgg16()\n",
    "model_pre.load_state_dict(torch.load(\"../input/pytorch-pretrained-models/vgg16-397923af.pth\"))"
   ]
  },
  {
   "cell_type": "code",
   "execution_count": null,
   "id": "ccee1ced",
   "metadata": {
    "_uuid": "b0259b0936dcd0ef57dc7fba27ed9f74c65a6b21",
    "execution": {
     "iopub.execute_input": "2024-02-20T12:13:22.362744Z",
     "iopub.status.busy": "2024-02-20T12:13:22.362429Z",
     "iopub.status.idle": "2024-02-20T12:13:22.369794Z",
     "shell.execute_reply": "2024-02-20T12:13:22.368920Z"
    },
    "papermill": {
     "duration": 0.026718,
     "end_time": "2024-02-20T12:13:22.371709",
     "exception": false,
     "start_time": "2024-02-20T12:13:22.344991",
     "status": "completed"
    },
    "tags": []
   },
   "outputs": [],
   "source": [
    "for param in model_pre.features.parameters():\n",
    "    param.required_grad = False\n",
    "\n",
    "num_features = model_pre.classifier[6].in_features\n",
    "features = list(model_pre.classifier.children())[:-1] \n",
    "features.extend([nn.Linear(num_features, len(class_names))])\n",
    "model_pre.classifier = nn.Sequential(*features) \n",
    "print(model_pre)"
   ]
  },
  {
   "cell_type": "code",
   "execution_count": 12,
   "id": "c9a7e6b9",
   "metadata": {
    "_uuid": "133bcf43b18238f99bfc71e282c48ec1073c12b3",
    "execution": {
     "iopub.execute_input": "2024-02-20T12:13:22.438535Z",
     "iopub.status.busy": "2024-02-20T12:13:22.437989Z",
     "iopub.status.idle": "2024-02-20T12:13:22.726088Z",
     "shell.execute_reply": "2024-02-20T12:13:22.725266Z"
    },
    "papermill": {
     "duration": 0.307776,
     "end_time": "2024-02-20T12:13:22.728395",
     "exception": false,
     "start_time": "2024-02-20T12:13:22.420619",
     "status": "completed"
    },
    "tags": []
   },
   "outputs": [],
   "source": [
    "model_pre = model_pre.to(device)\n",
    "criterion = nn.CrossEntropyLoss()\n",
    "optimizer = optim.SGD(model_pre.parameters(), lr=0.001, momentum=0.9, weight_decay=0.01)\n",
    "# Decay LR by a factor of 0.1 every 10 epochs\n",
    "exp_lr_scheduler = optim.lr_scheduler.StepLR(optimizer, step_size=10, gamma=0.1)"
   ]
  },
  {
   "cell_type": "code",
   "execution_count": null,
   "id": "ae48f29a",
   "metadata": {
    "_uuid": "08f9a3715e18dc954ea10c6d14202ad73a945b8e",
    "execution": {
     "iopub.execute_input": "2024-02-20T12:13:22.796301Z",
     "iopub.status.busy": "2024-02-20T12:13:22.795742Z",
     "iopub.status.idle": "2024-02-20T13:30:35.271079Z",
     "shell.execute_reply": "2024-02-20T13:30:35.270094Z"
    },
    "papermill": {
     "duration": 4632.494919,
     "end_time": "2024-02-20T13:30:35.273261",
     "exception": false,
     "start_time": "2024-02-20T12:13:22.778342",
     "status": "completed"
    },
    "tags": []
   },
   "outputs": [],
   "source": [
    "model_pre = train_model(model_pre, criterion, optimizer, exp_lr_scheduler, num_epochs=EPOCHS)"
   ]
  },
  {
   "cell_type": "code",
   "execution_count": 14,
   "id": "90463661",
   "metadata": {
    "_uuid": "c0365bfeeca42d70cabbc1bfe8c7233b4e3874b3",
    "execution": {
     "iopub.execute_input": "2024-02-20T13:30:35.360654Z",
     "iopub.status.busy": "2024-02-20T13:30:35.359850Z",
     "iopub.status.idle": "2024-02-20T13:30:35.367816Z",
     "shell.execute_reply": "2024-02-20T13:30:35.366982Z"
    },
    "papermill": {
     "duration": 0.032112,
     "end_time": "2024-02-20T13:30:35.369641",
     "exception": false,
     "start_time": "2024-02-20T13:30:35.337529",
     "status": "completed"
    },
    "tags": []
   },
   "outputs": [],
   "source": [
    "def test_model():\n",
    "    running_correct = 0.0\n",
    "    running_total = 0.0\n",
    "    true_labels = []\n",
    "    pred_labels = []\n",
    "    input_images = []\n",
    "\n",
    "    with torch.no_grad():\n",
    "        for data in dataloaders[TEST]:\n",
    "            inputs, labels = data\n",
    "            inputs = inputs.to(device)\n",
    "            labels = labels.to(device)\n",
    "\n",
    "            true_labels.append(labels.item())\n",
    "            \n",
    "            input_images.append(inputs)\n",
    "            \n",
    "            outputs = model_pre(inputs)\n",
    "            _, preds = torch.max(outputs.data, 1)\n",
    "\n",
    "            pred_labels.append(preds.item())\n",
    "\n",
    "            running_total += labels.size(0)\n",
    "            running_correct += (preds == labels).sum().item()\n",
    "\n",
    "        acc = running_correct / running_total\n",
    "\n",
    "    return true_labels, pred_labels, input_images,  running_correct, running_total, acc\n"
   ]
  },
  {
   "cell_type": "code",
   "execution_count": 15,
   "id": "29e7eca2",
   "metadata": {
    "_uuid": "011a51335e5abb11acd3449d94f2faa165a20c2d",
    "execution": {
     "iopub.execute_input": "2024-02-20T13:30:35.455230Z",
     "iopub.status.busy": "2024-02-20T13:30:35.454553Z",
     "iopub.status.idle": "2024-02-20T13:30:53.194821Z",
     "shell.execute_reply": "2024-02-20T13:30:53.193809Z"
    },
    "papermill": {
     "duration": 17.764672,
     "end_time": "2024-02-20T13:30:53.197405",
     "exception": false,
     "start_time": "2024-02-20T13:30:35.432733",
     "status": "completed"
    },
    "tags": []
   },
   "outputs": [],
   "source": [
    "true_labels, pred_labels, input_images, running_correct, running_total, acc = test_model()"
   ]
  },
  {
   "cell_type": "code",
   "execution_count": null,
   "id": "7d1cf1fc",
   "metadata": {
    "execution": {
     "iopub.execute_input": "2024-02-20T13:30:53.287627Z",
     "iopub.status.busy": "2024-02-20T13:30:53.286735Z",
     "iopub.status.idle": "2024-02-20T13:30:53.918587Z",
     "shell.execute_reply": "2024-02-20T13:30:53.917667Z"
    },
    "papermill": {
     "duration": 0.657799,
     "end_time": "2024-02-20T13:30:53.921527",
     "exception": false,
     "start_time": "2024-02-20T13:30:53.263728",
     "status": "completed"
    },
    "tags": []
   },
   "outputs": [],
   "source": [
    "fig, axes = plt.subplots(3,3, figsize=(7, 7))\n",
    "fig.subplots_adjust(hspace=0.7, wspace=0.7)\n",
    "x=0\n",
    "for i in range(3):\n",
    "    for j in range(3):\n",
    "        inp = input_images[x].squeeze()\n",
    "      \n",
    "        true_label = true_labels[x]\n",
    "        pred_label = pred_labels[x]\n",
    "\n",
    "        inp = inp.cpu().numpy().transpose((1, 2, 0))\n",
    "        mean = np.array([0.485, 0.456, 0.406])\n",
    "        std = np.array([0.229, 0.224, 0.225])\n",
    "        inp = std * inp + mean\n",
    "        inp = np.clip(inp, 0, 1)\n",
    "\n",
    "        axes[i, j].imshow(inp)\n",
    "\n",
    "        title = \"Predicted: {}\\nActual: {}\".format(class_names[pred_label], class_names[true_label])\n",
    "        color = 'green' if pred_label == true_label else 'red'\n",
    "        axes[i, j].set_title(title, color=color)\n",
    "\n",
    "        axes[i, j].axis('off')\n",
    "\n",
    "        x += 1\n",
    "\n",
    "plt.show()\n"
   ]
  },
  {
   "cell_type": "code",
   "execution_count": null,
   "id": "6b25f06e",
   "metadata": {
    "execution": {
     "iopub.execute_input": "2024-02-20T13:30:53.978231Z",
     "iopub.status.busy": "2024-02-20T13:30:53.977365Z",
     "iopub.status.idle": "2024-02-20T13:30:53.982459Z",
     "shell.execute_reply": "2024-02-20T13:30:53.981584Z"
    },
    "papermill": {
     "duration": 0.036159,
     "end_time": "2024-02-20T13:30:53.984634",
     "exception": false,
     "start_time": "2024-02-20T13:30:53.948475",
     "status": "completed"
    },
    "tags": []
   },
   "outputs": [],
   "source": [
    "print(\"Total Correct: {} \\nTotal Test Images: {}\".format(running_correct, running_total))\n",
    "print(\"Test Accuracy: \", acc)\n",
    "\n",
    "\n"
   ]
  }
 ],
 "metadata": {
  "kaggle": {
   "accelerator": "gpu",
   "dataSources": [
    {
     "datasetId": 17810,
     "sourceId": 23812,
     "sourceType": "datasetVersion"
    },
    {
     "datasetId": 255488,
     "sourceId": 847338,
     "sourceType": "datasetVersion"
    }
   ],
   "dockerImageVersionId": 30587,
   "isGpuEnabled": true,
   "isInternetEnabled": true,
   "language": "python",
   "sourceType": "notebook"
  },
  "kernelspec": {
   "display_name": "Python 3",
   "language": "python",
   "name": "python3"
  },
  "language_info": {
   "codemirror_mode": {
    "name": "ipython",
    "version": 3
   },
   "file_extension": ".py",
   "mimetype": "text/x-python",
   "name": "python",
   "nbconvert_exporter": "python",
   "pygments_lexer": "ipython3",
   "version": "3.10.12"
  },
  "papermill": {
   "default_parameters": {},
   "duration": 4682.351542,
   "end_time": "2024-02-20T13:30:56.241470",
   "environment_variables": {},
   "exception": null,
   "input_path": "__notebook__.ipynb",
   "output_path": "__notebook__.ipynb",
   "parameters": {},
   "start_time": "2024-02-20T12:12:53.889928",
   "version": "2.4.0"
  }
 },
 "nbformat": 4,
 "nbformat_minor": 5
}
