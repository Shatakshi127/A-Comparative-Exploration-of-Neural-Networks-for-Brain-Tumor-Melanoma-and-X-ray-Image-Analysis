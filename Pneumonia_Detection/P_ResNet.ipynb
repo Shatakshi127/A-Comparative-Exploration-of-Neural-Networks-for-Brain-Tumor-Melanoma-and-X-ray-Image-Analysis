{
 "cells": [
  {
   "cell_type": "code",
   "execution_count": 1,
   "id": "ed415ac6",
   "metadata": {
    "execution": {
     "iopub.execute_input": "2022-09-05T15:46:37.707037Z",
     "iopub.status.busy": "2022-09-05T15:46:37.706509Z",
     "iopub.status.idle": "2022-09-05T15:46:43.352672Z",
     "shell.execute_reply": "2022-09-05T15:46:43.351672Z"
    },
    "papermill": {
     "duration": 5.659943,
     "end_time": "2022-09-05T15:46:43.355171",
     "exception": false,
     "start_time": "2022-09-05T15:46:37.695228",
     "status": "completed"
    },
    "tags": []
   },
   "outputs": [],
   "source": [
    "import numpy as np\n",
    "import pandas as pd\n",
    "\n",
    "import os\n",
    "import re\n",
    "import numpy as np\n",
    "import matplotlib.pyplot as plt\n",
    "import matplotlib.image as mpimg\n",
    "import pandas as pd\n",
    "%matplotlib inline\n",
    "import warnings\n",
    "warnings.filterwarnings(\"ignore\")\n",
    "import tensorflow as tf\n",
    "import glob\n",
    "import random\n",
    "from tensorflow.keras.preprocessing.image import ImageDataGenerator,load_img\n",
    "from keras.utils.vis_utils import plot_model\n",
    "from PIL import Image\n"
   ]
  },
  {
   "cell_type": "code",
   "execution_count": 2,
   "id": "05a0b450",
   "metadata": {
    "execution": {
     "iopub.execute_input": "2022-09-05T15:46:43.382920Z",
     "iopub.status.busy": "2022-09-05T15:46:43.382390Z",
     "iopub.status.idle": "2022-09-05T15:46:43.387038Z",
     "shell.execute_reply": "2022-09-05T15:46:43.386082Z"
    },
    "papermill": {
     "duration": 0.013943,
     "end_time": "2022-09-05T15:46:43.388998",
     "exception": false,
     "start_time": "2022-09-05T15:46:43.375055",
     "status": "completed"
    },
    "tags": []
   },
   "outputs": [],
   "source": [
    "train_directory=\"/kaggle/input/chest-xray-pneumonia/chest_xray/chest_xray/train/\"\n",
    "val_directory=\"/kaggle/input/chest-xray-pneumonia/chest_xray/chest_xray/val/\"\n",
    "test_directory=\"/kaggle/input/chest-xray-pneumonia/chest_xray/chest_xray/test/\""
   ]
  },
  {
   "cell_type": "code",
   "execution_count": 3,
   "id": "d5ac6848",
   "metadata": {
    "execution": {
     "iopub.execute_input": "2022-09-05T15:46:43.416691Z",
     "iopub.status.busy": "2022-09-05T15:46:43.416426Z",
     "iopub.status.idle": "2022-09-05T15:46:43.428470Z",
     "shell.execute_reply": "2022-09-05T15:46:43.427443Z"
    },
    "papermill": {
     "duration": 0.021408,
     "end_time": "2022-09-05T15:46:43.430525",
     "exception": false,
     "start_time": "2022-09-05T15:46:43.409117",
     "status": "completed"
    },
    "tags": []
   },
   "outputs": [
    {
     "name": "stdout",
     "output_type": "stream",
     "text": [
      "['PNEUMONIA', 'NORMAL']\n"
     ]
    }
   ],
   "source": [
    "data_dir = train_directory\n",
    "class_names=os.listdir(train_directory)\n",
    "class_names.pop()\n",
    "print(class_names)"
   ]
  },
  {
   "cell_type": "code",
   "execution_count": 4,
   "id": "2e538efc",
   "metadata": {
    "execution": {
     "iopub.execute_input": "2022-09-05T15:46:43.456964Z",
     "iopub.status.busy": "2022-09-05T15:46:43.456683Z",
     "iopub.status.idle": "2022-09-05T15:46:43.461675Z",
     "shell.execute_reply": "2022-09-05T15:46:43.460741Z"
    },
    "papermill": {
     "duration": 0.014236,
     "end_time": "2022-09-05T15:46:43.463667",
     "exception": false,
     "start_time": "2022-09-05T15:46:43.449431",
     "status": "completed"
    },
    "tags": []
   },
   "outputs": [],
   "source": [
    "def view_random_image(target_directory, target_class):\n",
    "    target_folder = target_directory + target_class\n",
    "    random_image = random.sample(os.listdir(target_folder), 1)\n",
    "    img = mpimg.imread(target_folder + \"/\" + random_image[0])\n",
    "    plt.imshow(img)\n",
    "    plt.title(target_class)\n",
    "    plt.axis(\"off\");\n",
    "    return img"
   ]
  },
  {
   "cell_type": "code",
   "execution_count": null,
   "id": "41168fd5",
   "metadata": {
    "execution": {
     "iopub.execute_input": "2022-09-05T15:46:43.477486Z",
     "iopub.status.busy": "2022-09-05T15:46:43.477229Z",
     "iopub.status.idle": "2022-09-05T15:46:47.918303Z",
     "shell.execute_reply": "2022-09-05T15:46:47.917427Z"
    },
    "papermill": {
     "duration": 4.45476,
     "end_time": "2022-09-05T15:46:47.924772",
     "exception": false,
     "start_time": "2022-09-05T15:46:43.470012",
     "status": "completed"
    },
    "tags": []
   },
   "outputs": [],
   "source": [
    "plt.figure(figsize=(10,10))\n",
    "for i in range(12):\n",
    "    plt.subplot(3,4,i+1)\n",
    "    r=random.randint(0,1)\n",
    "    img = view_random_image(data_dir, class_names[r])    "
   ]
  },
  {
   "cell_type": "code",
   "execution_count": null,
   "id": "b86302d1",
   "metadata": {
    "execution": {
     "iopub.execute_input": "2022-09-05T15:46:47.971379Z",
     "iopub.status.busy": "2022-09-05T15:46:47.971055Z",
     "iopub.status.idle": "2022-09-05T15:46:50.296219Z",
     "shell.execute_reply": "2022-09-05T15:46:50.295390Z"
    },
    "papermill": {
     "duration": 2.342068,
     "end_time": "2022-09-05T15:46:50.302235",
     "exception": false,
     "start_time": "2022-09-05T15:46:47.960167",
     "status": "completed"
    },
    "tags": []
   },
   "outputs": [],
   "source": [
    "input_path=\"../input/chest-xray-pneumonia/chest_xray/chest_xray/\"\n",
    "fig, ax = plt.subplots(2, 3, figsize=(15, 7))\n",
    "ax = ax.ravel()\n",
    "plt.tight_layout()\n",
    "\n",
    "for i, _set in enumerate(['train', 'val', 'test']):\n",
    "    set_path = input_path+_set\n",
    "    ax[i].imshow(plt.imread(set_path+'/NORMAL/'+os.listdir(set_path+'/NORMAL')[0]), cmap='gray')\n",
    "    ax[i].set_title('Set: {}, Condition: Normal'.format(_set))\n",
    "    ax[i+3].imshow(plt.imread(set_path+'/PNEUMONIA/'+os.listdir(set_path+'/PNEUMONIA')[0]), cmap='gray')\n",
    "    ax[i+3].set_title('Set: {}, Condition: Pneumonia'.format(_set))\n"
   ]
  },
  {
   "cell_type": "code",
   "execution_count": 7,
   "id": "7f8ebc12",
   "metadata": {
    "execution": {
     "iopub.execute_input": "2022-09-05T15:46:50.364387Z",
     "iopub.status.busy": "2022-09-05T15:46:50.362505Z",
     "iopub.status.idle": "2022-09-05T15:46:50.374762Z",
     "shell.execute_reply": "2022-09-05T15:46:50.373613Z"
    },
    "papermill": {
     "duration": 0.031112,
     "end_time": "2022-09-05T15:46:50.377286",
     "exception": false,
     "start_time": "2022-09-05T15:46:50.346174",
     "status": "completed"
    },
    "tags": []
   },
   "outputs": [
    {
     "name": "stdout",
     "output_type": "stream",
     "text": [
      "Set: train, Normal images: 1342, pneumonia images: 3876\n",
      "Set: val, Normal images: 9, pneumonia images: 9\n",
      "Set: test, Normal images: 234, pneumonia images: 390\n"
     ]
    }
   ],
   "source": [
    "for _set in ['train', 'val', 'test']:\n",
    "    n_normal = len(os.listdir(input_path + _set + '/NORMAL'))\n",
    "    n_infect = len(os.listdir(input_path + _set + '/PNEUMONIA'))\n",
    "    print('Set: {}, Normal images: {}, pneumonia images: {}'.format(_set, n_normal, n_infect))"
   ]
  },
  {
   "cell_type": "code",
   "execution_count": 8,
   "id": "c24a7a79",
   "metadata": {
    "execution": {
     "iopub.execute_input": "2022-09-05T15:46:50.436493Z",
     "iopub.status.busy": "2022-09-05T15:46:50.435677Z",
     "iopub.status.idle": "2022-09-05T15:46:50.440505Z",
     "shell.execute_reply": "2022-09-05T15:46:50.439666Z"
    },
    "papermill": {
     "duration": 0.022303,
     "end_time": "2022-09-05T15:46:50.442435",
     "exception": false,
     "start_time": "2022-09-05T15:46:50.420132",
     "status": "completed"
    },
    "tags": []
   },
   "outputs": [],
   "source": [
    "# Re-sizing the images\n",
    "IMAGE_SIZE = (224, 224)\n",
    "# Default batch size\n",
    "BATCH_SIZE = 32"
   ]
  },
  {
   "cell_type": "code",
   "execution_count": 9,
   "id": "6eb7326d",
   "metadata": {
    "execution": {
     "iopub.execute_input": "2022-09-05T15:46:50.586693Z",
     "iopub.status.busy": "2022-09-05T15:46:50.586204Z",
     "iopub.status.idle": "2022-09-05T15:46:50.598100Z",
     "shell.execute_reply": "2022-09-05T15:46:50.595843Z"
    },
    "papermill": {
     "duration": 0.04535,
     "end_time": "2022-09-05T15:46:50.602787",
     "exception": false,
     "start_time": "2022-09-05T15:46:50.557437",
     "status": "completed"
    },
    "tags": []
   },
   "outputs": [],
   "source": [
    "Image_gen = ImageDataGenerator(\n",
    "        rescale = 1/255,\n",
    "        shear_range=10,\n",
    "        zoom_range=0.3,\n",
    "        horizontal_flip=True,\n",
    "        vertical_flip=True,\n",
    "        brightness_range=[0.5,2.0],\n",
    "        width_shift_range = 0.2,\n",
    "        rotation_range=20,\n",
    "        fill_mode = 'nearest'\n",
    ")\n",
    "val_Datagen = ImageDataGenerator(\n",
    "        rescale = 1/255\n",
    ")"
   ]
  },
  {
   "cell_type": "code",
   "execution_count": 10,
   "id": "f1a8f49d",
   "metadata": {
    "execution": {
     "iopub.execute_input": "2022-09-05T15:46:50.695514Z",
     "iopub.status.busy": "2022-09-05T15:46:50.695139Z",
     "iopub.status.idle": "2022-09-05T15:46:54.791055Z",
     "shell.execute_reply": "2022-09-05T15:46:54.790035Z"
    },
    "papermill": {
     "duration": 4.121922,
     "end_time": "2022-09-05T15:46:54.793258",
     "exception": false,
     "start_time": "2022-09-05T15:46:50.671336",
     "status": "completed"
    },
    "tags": []
   },
   "outputs": [
    {
     "name": "stdout",
     "output_type": "stream",
     "text": [
      "Found 5216 images belonging to 2 classes.\n",
      "Found 16 images belonging to 2 classes.\n",
      "Found 624 images belonging to 2 classes.\n"
     ]
    }
   ],
   "source": [
    "train = Image_gen.flow_from_directory(train_directory,\n",
    "                                       batch_size=32,\n",
    "                                       class_mode='binary',\n",
    "#                                        target_size=(224,224,3))\n",
    "                                       )\n",
    "\n",
    "validation = Image_gen.flow_from_directory(val_directory,\n",
    "                                              batch_size=2,\n",
    "                                              class_mode='binary',\n",
    "#                                               target_size=(224,224,3))\n",
    "                                            )\n",
    "\n",
    "test = val_Datagen.flow_from_directory(test_directory,\n",
    "                                       batch_size=2,\n",
    "                                       class_mode='binary',\n",
    "#                                        target_size=(224/,224,3))\n",
    "                                      )\n"
   ]
  },
  {
   "cell_type": "code",
   "execution_count": 11,
   "id": "86d29455",
   "metadata": {
    "execution": {
     "iopub.execute_input": "2022-09-05T15:46:54.825543Z",
     "iopub.status.busy": "2022-09-05T15:46:54.824541Z",
     "iopub.status.idle": "2022-09-05T15:46:55.901681Z",
     "shell.execute_reply": "2022-09-05T15:46:55.900712Z"
    },
    "papermill": {
     "duration": 1.095434,
     "end_time": "2022-09-05T15:46:55.904017",
     "exception": false,
     "start_time": "2022-09-05T15:46:54.808583",
     "status": "completed"
    },
    "tags": []
   },
   "outputs": [],
   "source": [
    "img, label = next(train)"
   ]
  },
  {
   "cell_type": "code",
   "execution_count": 12,
   "id": "cf831ef8",
   "metadata": {
    "execution": {
     "iopub.execute_input": "2022-09-05T15:46:55.964969Z",
     "iopub.status.busy": "2022-09-05T15:46:55.963577Z",
     "iopub.status.idle": "2022-09-05T15:46:55.968959Z",
     "shell.execute_reply": "2022-09-05T15:46:55.967871Z"
    },
    "papermill": {
     "duration": 0.02322,
     "end_time": "2022-09-05T15:46:55.971175",
     "exception": false,
     "start_time": "2022-09-05T15:46:55.947955",
     "status": "completed"
    },
    "tags": []
   },
   "outputs": [],
   "source": [
    "early_stopping = tf.keras.callbacks.EarlyStopping(monitor='val_loss',\n",
    "                                                  patience=10)"
   ]
  },
  {
   "cell_type": "code",
   "execution_count": 13,
   "id": "2dca1b93",
   "metadata": {
    "execution": {
     "iopub.execute_input": "2022-09-05T15:46:56.030431Z",
     "iopub.status.busy": "2022-09-05T15:46:56.030115Z",
     "iopub.status.idle": "2022-09-05T15:46:56.034787Z",
     "shell.execute_reply": "2022-09-05T15:46:56.033741Z"
    },
    "papermill": {
     "duration": 0.023078,
     "end_time": "2022-09-05T15:46:56.036986",
     "exception": false,
     "start_time": "2022-09-05T15:46:56.013908",
     "status": "completed"
    },
    "tags": []
   },
   "outputs": [],
   "source": [
    "lr = tf.keras.callbacks.ReduceLROnPlateau(monitor='val_loss',\n",
    "                                          patience=8)"
   ]
  },
  {
   "cell_type": "code",
   "execution_count": 14,
   "id": "5d3bd982",
   "metadata": {
    "execution": {
     "iopub.execute_input": "2022-09-05T15:46:56.095419Z",
     "iopub.status.busy": "2022-09-05T15:46:56.095124Z",
     "iopub.status.idle": "2022-09-05T15:46:56.101850Z",
     "shell.execute_reply": "2022-09-05T15:46:56.100870Z"
    },
    "papermill": {
     "duration": 0.023963,
     "end_time": "2022-09-05T15:46:56.103868",
     "exception": false,
     "start_time": "2022-09-05T15:46:56.079905",
     "status": "completed"
    },
    "tags": []
   },
   "outputs": [],
   "source": [
    "def create_model():\n",
    "    resnet_model = tf.keras.applications.ResNet50V2(\n",
    "        weights='imagenet',\n",
    "        include_top = False,\n",
    "        input_shape = (224,224,3)\n",
    "    )\n",
    "\n",
    "    for layer in resnet_model.layers:\n",
    "        layer.trainable=False\n",
    "\n",
    "    x = resnet_model.output\n",
    "    x = tf.keras.layers.GlobalAveragePooling2D()(x)\n",
    "    x = tf.keras.layers.Dense(128,activation='relu')(x)\n",
    "    # output layer\n",
    "    predictions = tf.keras.layers.Dense(1,activation='sigmoid')(x)\n",
    "\n",
    "    res_model = tf.keras.Model(inputs=resnet_model.input, outputs=predictions)\n",
    "\n",
    "    res_model.compile(loss='binary_crossentropy', optimizer='adam',metrics=['accuracy'])\n",
    "    return res_model\n"
   ]
  },
  {
   "cell_type": "code",
   "execution_count": null,
   "id": "d645997a",
   "metadata": {
    "execution": {
     "iopub.execute_input": "2022-09-05T15:46:56.134194Z",
     "iopub.status.busy": "2022-09-05T15:46:56.133929Z",
     "iopub.status.idle": "2022-09-05T15:47:00.983580Z",
     "shell.execute_reply": "2022-09-05T15:47:00.982611Z"
    },
    "papermill": {
     "duration": 4.868015,
     "end_time": "2022-09-05T15:47:00.985966",
     "exception": false,
     "start_time": "2022-09-05T15:46:56.117951",
     "status": "completed"
    },
    "tags": []
   },
   "outputs": [],
   "source": [
    "res_model = create_model()"
   ]
  },
  {
   "cell_type": "code",
   "execution_count": 16,
   "id": "5573b04c",
   "metadata": {
    "collapsed": true,
    "execution": {
     "iopub.execute_input": "2022-09-05T15:47:01.020223Z",
     "iopub.status.busy": "2022-09-05T15:47:01.019606Z",
     "iopub.status.idle": "2022-09-05T15:47:01.042313Z",
     "shell.execute_reply": "2022-09-05T15:47:01.041414Z"
    },
    "jupyter": {
     "outputs_hidden": true
    },
    "papermill": {
     "duration": 0.044492,
     "end_time": "2022-09-05T15:47:01.046815",
     "exception": false,
     "start_time": "2022-09-05T15:47:01.002323",
     "status": "completed"
    },
    "tags": []
   },
   "outputs": [
    {
     "name": "stdout",
     "output_type": "stream",
     "text": [
      "Model: \"model\"\n",
      "__________________________________________________________________________________________________\n",
      "Layer (type)                    Output Shape         Param #     Connected to                     \n",
      "==================================================================================================\n",
      "input_1 (InputLayer)            [(None, 224, 224, 3) 0                                            \n",
      "__________________________________________________________________________________________________\n",
      "conv1_pad (ZeroPadding2D)       (None, 230, 230, 3)  0           input_1[0][0]                    \n",
      "__________________________________________________________________________________________________\n",
      "conv1_conv (Conv2D)             (None, 112, 112, 64) 9472        conv1_pad[0][0]                  \n",
      "__________________________________________________________________________________________________\n",
      "pool1_pad (ZeroPadding2D)       (None, 114, 114, 64) 0           conv1_conv[0][0]                 \n",
      "__________________________________________________________________________________________________\n",
      "pool1_pool (MaxPooling2D)       (None, 56, 56, 64)   0           pool1_pad[0][0]                  \n",
      "__________________________________________________________________________________________________\n",
      "conv2_block1_preact_bn (BatchNo (None, 56, 56, 64)   256         pool1_pool[0][0]                 \n",
      "__________________________________________________________________________________________________\n",
      "conv2_block1_preact_relu (Activ (None, 56, 56, 64)   0           conv2_block1_preact_bn[0][0]     \n",
      "__________________________________________________________________________________________________\n",
      "conv2_block1_1_conv (Conv2D)    (None, 56, 56, 64)   4096        conv2_block1_preact_relu[0][0]   \n",
      "__________________________________________________________________________________________________\n",
      "conv2_block1_1_bn (BatchNormali (None, 56, 56, 64)   256         conv2_block1_1_conv[0][0]        \n",
      "__________________________________________________________________________________________________\n",
      "conv2_block1_1_relu (Activation (None, 56, 56, 64)   0           conv2_block1_1_bn[0][0]          \n",
      "__________________________________________________________________________________________________\n",
      "conv2_block1_2_pad (ZeroPadding (None, 58, 58, 64)   0           conv2_block1_1_relu[0][0]        \n",
      "__________________________________________________________________________________________________\n",
      "conv2_block1_2_conv (Conv2D)    (None, 56, 56, 64)   36864       conv2_block1_2_pad[0][0]         \n",
      "__________________________________________________________________________________________________\n",
      "conv2_block1_2_bn (BatchNormali (None, 56, 56, 64)   256         conv2_block1_2_conv[0][0]        \n",
      "__________________________________________________________________________________________________\n",
      "conv2_block1_2_relu (Activation (None, 56, 56, 64)   0           conv2_block1_2_bn[0][0]          \n",
      "__________________________________________________________________________________________________\n",
      "conv2_block1_0_conv (Conv2D)    (None, 56, 56, 256)  16640       conv2_block1_preact_relu[0][0]   \n",
      "__________________________________________________________________________________________________\n",
      "conv2_block1_3_conv (Conv2D)    (None, 56, 56, 256)  16640       conv2_block1_2_relu[0][0]        \n",
      "__________________________________________________________________________________________________\n",
      "conv2_block1_out (Add)          (None, 56, 56, 256)  0           conv2_block1_0_conv[0][0]        \n",
      "                                                                 conv2_block1_3_conv[0][0]        \n",
      "__________________________________________________________________________________________________\n",
      "conv2_block2_preact_bn (BatchNo (None, 56, 56, 256)  1024        conv2_block1_out[0][0]           \n",
      "__________________________________________________________________________________________________\n",
      "conv2_block2_preact_relu (Activ (None, 56, 56, 256)  0           conv2_block2_preact_bn[0][0]     \n",
      "__________________________________________________________________________________________________\n",
      "conv2_block2_1_conv (Conv2D)    (None, 56, 56, 64)   16384       conv2_block2_preact_relu[0][0]   \n",
      "__________________________________________________________________________________________________\n",
      "conv2_block2_1_bn (BatchNormali (None, 56, 56, 64)   256         conv2_block2_1_conv[0][0]        \n",
      "__________________________________________________________________________________________________\n",
      "conv2_block2_1_relu (Activation (None, 56, 56, 64)   0           conv2_block2_1_bn[0][0]          \n",
      "__________________________________________________________________________________________________\n",
      "conv2_block2_2_pad (ZeroPadding (None, 58, 58, 64)   0           conv2_block2_1_relu[0][0]        \n",
      "__________________________________________________________________________________________________\n",
      "conv2_block2_2_conv (Conv2D)    (None, 56, 56, 64)   36864       conv2_block2_2_pad[0][0]         \n",
      "__________________________________________________________________________________________________\n",
      "conv2_block2_2_bn (BatchNormali (None, 56, 56, 64)   256         conv2_block2_2_conv[0][0]        \n",
      "__________________________________________________________________________________________________\n",
      "conv2_block2_2_relu (Activation (None, 56, 56, 64)   0           conv2_block2_2_bn[0][0]          \n",
      "__________________________________________________________________________________________________\n",
      "conv2_block2_3_conv (Conv2D)    (None, 56, 56, 256)  16640       conv2_block2_2_relu[0][0]        \n",
      "__________________________________________________________________________________________________\n",
      "conv2_block2_out (Add)          (None, 56, 56, 256)  0           conv2_block1_out[0][0]           \n",
      "                                                                 conv2_block2_3_conv[0][0]        \n",
      "__________________________________________________________________________________________________\n",
      "conv2_block3_preact_bn (BatchNo (None, 56, 56, 256)  1024        conv2_block2_out[0][0]           \n",
      "__________________________________________________________________________________________________\n",
      "conv2_block3_preact_relu (Activ (None, 56, 56, 256)  0           conv2_block3_preact_bn[0][0]     \n",
      "__________________________________________________________________________________________________\n",
      "conv2_block3_1_conv (Conv2D)    (None, 56, 56, 64)   16384       conv2_block3_preact_relu[0][0]   \n",
      "__________________________________________________________________________________________________\n",
      "conv2_block3_1_bn (BatchNormali (None, 56, 56, 64)   256         conv2_block3_1_conv[0][0]        \n",
      "__________________________________________________________________________________________________\n",
      "conv2_block3_1_relu (Activation (None, 56, 56, 64)   0           conv2_block3_1_bn[0][0]          \n",
      "__________________________________________________________________________________________________\n",
      "conv2_block3_2_pad (ZeroPadding (None, 58, 58, 64)   0           conv2_block3_1_relu[0][0]        \n",
      "__________________________________________________________________________________________________\n",
      "conv2_block3_2_conv (Conv2D)    (None, 28, 28, 64)   36864       conv2_block3_2_pad[0][0]         \n",
      "__________________________________________________________________________________________________\n",
      "conv2_block3_2_bn (BatchNormali (None, 28, 28, 64)   256         conv2_block3_2_conv[0][0]        \n",
      "__________________________________________________________________________________________________\n",
      "conv2_block3_2_relu (Activation (None, 28, 28, 64)   0           conv2_block3_2_bn[0][0]          \n",
      "__________________________________________________________________________________________________\n",
      "max_pooling2d (MaxPooling2D)    (None, 28, 28, 256)  0           conv2_block2_out[0][0]           \n",
      "__________________________________________________________________________________________________\n",
      "conv2_block3_3_conv (Conv2D)    (None, 28, 28, 256)  16640       conv2_block3_2_relu[0][0]        \n",
      "__________________________________________________________________________________________________\n",
      "conv2_block3_out (Add)          (None, 28, 28, 256)  0           max_pooling2d[0][0]              \n",
      "                                                                 conv2_block3_3_conv[0][0]        \n",
      "__________________________________________________________________________________________________\n",
      "conv3_block1_preact_bn (BatchNo (None, 28, 28, 256)  1024        conv2_block3_out[0][0]           \n",
      "__________________________________________________________________________________________________\n",
      "conv3_block1_preact_relu (Activ (None, 28, 28, 256)  0           conv3_block1_preact_bn[0][0]     \n",
      "__________________________________________________________________________________________________\n",
      "conv3_block1_1_conv (Conv2D)    (None, 28, 28, 128)  32768       conv3_block1_preact_relu[0][0]   \n",
      "__________________________________________________________________________________________________\n",
      "conv3_block1_1_bn (BatchNormali (None, 28, 28, 128)  512         conv3_block1_1_conv[0][0]        \n",
      "__________________________________________________________________________________________________\n",
      "conv3_block1_1_relu (Activation (None, 28, 28, 128)  0           conv3_block1_1_bn[0][0]          \n",
      "__________________________________________________________________________________________________\n",
      "conv3_block1_2_pad (ZeroPadding (None, 30, 30, 128)  0           conv3_block1_1_relu[0][0]        \n",
      "__________________________________________________________________________________________________\n",
      "conv3_block1_2_conv (Conv2D)    (None, 28, 28, 128)  147456      conv3_block1_2_pad[0][0]         \n",
      "__________________________________________________________________________________________________\n",
      "conv3_block1_2_bn (BatchNormali (None, 28, 28, 128)  512         conv3_block1_2_conv[0][0]        \n",
      "__________________________________________________________________________________________________\n",
      "conv3_block1_2_relu (Activation (None, 28, 28, 128)  0           conv3_block1_2_bn[0][0]          \n",
      "__________________________________________________________________________________________________\n",
      "conv3_block1_0_conv (Conv2D)    (None, 28, 28, 512)  131584      conv3_block1_preact_relu[0][0]   \n",
      "__________________________________________________________________________________________________\n",
      "conv3_block1_3_conv (Conv2D)    (None, 28, 28, 512)  66048       conv3_block1_2_relu[0][0]        \n",
      "__________________________________________________________________________________________________\n",
      "conv3_block1_out (Add)          (None, 28, 28, 512)  0           conv3_block1_0_conv[0][0]        \n",
      "                                                                 conv3_block1_3_conv[0][0]        \n",
      "__________________________________________________________________________________________________\n",
      "conv3_block2_preact_bn (BatchNo (None, 28, 28, 512)  2048        conv3_block1_out[0][0]           \n",
      "__________________________________________________________________________________________________\n",
      "conv3_block2_preact_relu (Activ (None, 28, 28, 512)  0           conv3_block2_preact_bn[0][0]     \n",
      "__________________________________________________________________________________________________\n",
      "conv3_block2_1_conv (Conv2D)    (None, 28, 28, 128)  65536       conv3_block2_preact_relu[0][0]   \n",
      "__________________________________________________________________________________________________\n",
      "conv3_block2_1_bn (BatchNormali (None, 28, 28, 128)  512         conv3_block2_1_conv[0][0]        \n",
      "__________________________________________________________________________________________________\n",
      "conv3_block2_1_relu (Activation (None, 28, 28, 128)  0           conv3_block2_1_bn[0][0]          \n",
      "__________________________________________________________________________________________________\n",
      "conv3_block2_2_pad (ZeroPadding (None, 30, 30, 128)  0           conv3_block2_1_relu[0][0]        \n",
      "__________________________________________________________________________________________________\n",
      "conv3_block2_2_conv (Conv2D)    (None, 28, 28, 128)  147456      conv3_block2_2_pad[0][0]         \n",
      "__________________________________________________________________________________________________\n",
      "conv3_block2_2_bn (BatchNormali (None, 28, 28, 128)  512         conv3_block2_2_conv[0][0]        \n",
      "__________________________________________________________________________________________________\n",
      "conv3_block2_2_relu (Activation (None, 28, 28, 128)  0           conv3_block2_2_bn[0][0]          \n",
      "__________________________________________________________________________________________________\n",
      "conv3_block2_3_conv (Conv2D)    (None, 28, 28, 512)  66048       conv3_block2_2_relu[0][0]        \n",
      "__________________________________________________________________________________________________\n",
      "conv3_block2_out (Add)          (None, 28, 28, 512)  0           conv3_block1_out[0][0]           \n",
      "                                                                 conv3_block2_3_conv[0][0]        \n",
      "__________________________________________________________________________________________________\n",
      "conv3_block3_preact_bn (BatchNo (None, 28, 28, 512)  2048        conv3_block2_out[0][0]           \n",
      "__________________________________________________________________________________________________\n",
      "conv3_block3_preact_relu (Activ (None, 28, 28, 512)  0           conv3_block3_preact_bn[0][0]     \n",
      "__________________________________________________________________________________________________\n",
      "conv3_block3_1_conv (Conv2D)    (None, 28, 28, 128)  65536       conv3_block3_preact_relu[0][0]   \n",
      "__________________________________________________________________________________________________\n",
      "conv3_block3_1_bn (BatchNormali (None, 28, 28, 128)  512         conv3_block3_1_conv[0][0]        \n",
      "__________________________________________________________________________________________________\n",
      "conv3_block3_1_relu (Activation (None, 28, 28, 128)  0           conv3_block3_1_bn[0][0]          \n",
      "__________________________________________________________________________________________________\n",
      "conv3_block3_2_pad (ZeroPadding (None, 30, 30, 128)  0           conv3_block3_1_relu[0][0]        \n",
      "__________________________________________________________________________________________________\n",
      "conv3_block3_2_conv (Conv2D)    (None, 28, 28, 128)  147456      conv3_block3_2_pad[0][0]         \n",
      "__________________________________________________________________________________________________\n",
      "conv3_block3_2_bn (BatchNormali (None, 28, 28, 128)  512         conv3_block3_2_conv[0][0]        \n",
      "__________________________________________________________________________________________________\n",
      "conv3_block3_2_relu (Activation (None, 28, 28, 128)  0           conv3_block3_2_bn[0][0]          \n",
      "__________________________________________________________________________________________________\n",
      "conv3_block3_3_conv (Conv2D)    (None, 28, 28, 512)  66048       conv3_block3_2_relu[0][0]        \n",
      "__________________________________________________________________________________________________\n",
      "conv3_block3_out (Add)          (None, 28, 28, 512)  0           conv3_block2_out[0][0]           \n",
      "                                                                 conv3_block3_3_conv[0][0]        \n",
      "__________________________________________________________________________________________________\n",
      "conv3_block4_preact_bn (BatchNo (None, 28, 28, 512)  2048        conv3_block3_out[0][0]           \n",
      "__________________________________________________________________________________________________\n",
      "conv3_block4_preact_relu (Activ (None, 28, 28, 512)  0           conv3_block4_preact_bn[0][0]     \n",
      "__________________________________________________________________________________________________\n",
      "conv3_block4_1_conv (Conv2D)    (None, 28, 28, 128)  65536       conv3_block4_preact_relu[0][0]   \n",
      "__________________________________________________________________________________________________\n",
      "conv3_block4_1_bn (BatchNormali (None, 28, 28, 128)  512         conv3_block4_1_conv[0][0]        \n",
      "__________________________________________________________________________________________________\n",
      "conv3_block4_1_relu (Activation (None, 28, 28, 128)  0           conv3_block4_1_bn[0][0]          \n",
      "__________________________________________________________________________________________________\n",
      "conv3_block4_2_pad (ZeroPadding (None, 30, 30, 128)  0           conv3_block4_1_relu[0][0]        \n",
      "__________________________________________________________________________________________________\n",
      "conv3_block4_2_conv (Conv2D)    (None, 14, 14, 128)  147456      conv3_block4_2_pad[0][0]         \n",
      "__________________________________________________________________________________________________\n",
      "conv3_block4_2_bn (BatchNormali (None, 14, 14, 128)  512         conv3_block4_2_conv[0][0]        \n",
      "__________________________________________________________________________________________________\n",
      "conv3_block4_2_relu (Activation (None, 14, 14, 128)  0           conv3_block4_2_bn[0][0]          \n",
      "__________________________________________________________________________________________________\n",
      "max_pooling2d_1 (MaxPooling2D)  (None, 14, 14, 512)  0           conv3_block3_out[0][0]           \n",
      "__________________________________________________________________________________________________\n",
      "conv3_block4_3_conv (Conv2D)    (None, 14, 14, 512)  66048       conv3_block4_2_relu[0][0]        \n",
      "__________________________________________________________________________________________________\n",
      "conv3_block4_out (Add)          (None, 14, 14, 512)  0           max_pooling2d_1[0][0]            \n",
      "                                                                 conv3_block4_3_conv[0][0]        \n",
      "__________________________________________________________________________________________________\n",
      "conv4_block1_preact_bn (BatchNo (None, 14, 14, 512)  2048        conv3_block4_out[0][0]           \n",
      "__________________________________________________________________________________________________\n",
      "conv4_block1_preact_relu (Activ (None, 14, 14, 512)  0           conv4_block1_preact_bn[0][0]     \n",
      "__________________________________________________________________________________________________\n",
      "conv4_block1_1_conv (Conv2D)    (None, 14, 14, 256)  131072      conv4_block1_preact_relu[0][0]   \n",
      "__________________________________________________________________________________________________\n",
      "conv4_block1_1_bn (BatchNormali (None, 14, 14, 256)  1024        conv4_block1_1_conv[0][0]        \n",
      "__________________________________________________________________________________________________\n",
      "conv4_block1_1_relu (Activation (None, 14, 14, 256)  0           conv4_block1_1_bn[0][0]          \n",
      "__________________________________________________________________________________________________\n",
      "conv4_block1_2_pad (ZeroPadding (None, 16, 16, 256)  0           conv4_block1_1_relu[0][0]        \n",
      "__________________________________________________________________________________________________\n",
      "conv4_block1_2_conv (Conv2D)    (None, 14, 14, 256)  589824      conv4_block1_2_pad[0][0]         \n",
      "__________________________________________________________________________________________________\n",
      "conv4_block1_2_bn (BatchNormali (None, 14, 14, 256)  1024        conv4_block1_2_conv[0][0]        \n",
      "__________________________________________________________________________________________________\n",
      "conv4_block1_2_relu (Activation (None, 14, 14, 256)  0           conv4_block1_2_bn[0][0]          \n",
      "__________________________________________________________________________________________________\n",
      "conv4_block1_0_conv (Conv2D)    (None, 14, 14, 1024) 525312      conv4_block1_preact_relu[0][0]   \n",
      "__________________________________________________________________________________________________\n",
      "conv4_block1_3_conv (Conv2D)    (None, 14, 14, 1024) 263168      conv4_block1_2_relu[0][0]        \n",
      "__________________________________________________________________________________________________\n",
      "conv4_block1_out (Add)          (None, 14, 14, 1024) 0           conv4_block1_0_conv[0][0]        \n",
      "                                                                 conv4_block1_3_conv[0][0]        \n",
      "__________________________________________________________________________________________________\n",
      "conv4_block2_preact_bn (BatchNo (None, 14, 14, 1024) 4096        conv4_block1_out[0][0]           \n",
      "__________________________________________________________________________________________________\n",
      "conv4_block2_preact_relu (Activ (None, 14, 14, 1024) 0           conv4_block2_preact_bn[0][0]     \n",
      "__________________________________________________________________________________________________\n",
      "conv4_block2_1_conv (Conv2D)    (None, 14, 14, 256)  262144      conv4_block2_preact_relu[0][0]   \n",
      "__________________________________________________________________________________________________\n",
      "conv4_block2_1_bn (BatchNormali (None, 14, 14, 256)  1024        conv4_block2_1_conv[0][0]        \n",
      "__________________________________________________________________________________________________\n",
      "conv4_block2_1_relu (Activation (None, 14, 14, 256)  0           conv4_block2_1_bn[0][0]          \n",
      "__________________________________________________________________________________________________\n",
      "conv4_block2_2_pad (ZeroPadding (None, 16, 16, 256)  0           conv4_block2_1_relu[0][0]        \n",
      "__________________________________________________________________________________________________\n",
      "conv4_block2_2_conv (Conv2D)    (None, 14, 14, 256)  589824      conv4_block2_2_pad[0][0]         \n",
      "__________________________________________________________________________________________________\n",
      "conv4_block2_2_bn (BatchNormali (None, 14, 14, 256)  1024        conv4_block2_2_conv[0][0]        \n",
      "__________________________________________________________________________________________________\n",
      "conv4_block2_2_relu (Activation (None, 14, 14, 256)  0           conv4_block2_2_bn[0][0]          \n",
      "__________________________________________________________________________________________________\n",
      "conv4_block2_3_conv (Conv2D)    (None, 14, 14, 1024) 263168      conv4_block2_2_relu[0][0]        \n",
      "__________________________________________________________________________________________________\n",
      "conv4_block2_out (Add)          (None, 14, 14, 1024) 0           conv4_block1_out[0][0]           \n",
      "                                                                 conv4_block2_3_conv[0][0]        \n",
      "__________________________________________________________________________________________________\n",
      "conv4_block3_preact_bn (BatchNo (None, 14, 14, 1024) 4096        conv4_block2_out[0][0]           \n",
      "__________________________________________________________________________________________________\n",
      "conv4_block3_preact_relu (Activ (None, 14, 14, 1024) 0           conv4_block3_preact_bn[0][0]     \n",
      "__________________________________________________________________________________________________\n",
      "conv4_block3_1_conv (Conv2D)    (None, 14, 14, 256)  262144      conv4_block3_preact_relu[0][0]   \n",
      "__________________________________________________________________________________________________\n",
      "conv4_block3_1_bn (BatchNormali (None, 14, 14, 256)  1024        conv4_block3_1_conv[0][0]        \n",
      "__________________________________________________________________________________________________\n",
      "conv4_block3_1_relu (Activation (None, 14, 14, 256)  0           conv4_block3_1_bn[0][0]          \n",
      "__________________________________________________________________________________________________\n",
      "conv4_block3_2_pad (ZeroPadding (None, 16, 16, 256)  0           conv4_block3_1_relu[0][0]        \n",
      "__________________________________________________________________________________________________\n",
      "conv4_block3_2_conv (Conv2D)    (None, 14, 14, 256)  589824      conv4_block3_2_pad[0][0]         \n",
      "__________________________________________________________________________________________________\n",
      "conv4_block3_2_bn (BatchNormali (None, 14, 14, 256)  1024        conv4_block3_2_conv[0][0]        \n",
      "__________________________________________________________________________________________________\n",
      "conv4_block3_2_relu (Activation (None, 14, 14, 256)  0           conv4_block3_2_bn[0][0]          \n",
      "__________________________________________________________________________________________________\n",
      "conv4_block3_3_conv (Conv2D)    (None, 14, 14, 1024) 263168      conv4_block3_2_relu[0][0]        \n",
      "__________________________________________________________________________________________________\n",
      "conv4_block3_out (Add)          (None, 14, 14, 1024) 0           conv4_block2_out[0][0]           \n",
      "                                                                 conv4_block3_3_conv[0][0]        \n",
      "__________________________________________________________________________________________________\n",
      "conv4_block4_preact_bn (BatchNo (None, 14, 14, 1024) 4096        conv4_block3_out[0][0]           \n",
      "__________________________________________________________________________________________________\n",
      "conv4_block4_preact_relu (Activ (None, 14, 14, 1024) 0           conv4_block4_preact_bn[0][0]     \n",
      "__________________________________________________________________________________________________\n",
      "conv4_block4_1_conv (Conv2D)    (None, 14, 14, 256)  262144      conv4_block4_preact_relu[0][0]   \n",
      "__________________________________________________________________________________________________\n",
      "conv4_block4_1_bn (BatchNormali (None, 14, 14, 256)  1024        conv4_block4_1_conv[0][0]        \n",
      "__________________________________________________________________________________________________\n",
      "conv4_block4_1_relu (Activation (None, 14, 14, 256)  0           conv4_block4_1_bn[0][0]          \n",
      "__________________________________________________________________________________________________\n",
      "conv4_block4_2_pad (ZeroPadding (None, 16, 16, 256)  0           conv4_block4_1_relu[0][0]        \n",
      "__________________________________________________________________________________________________\n",
      "conv4_block4_2_conv (Conv2D)    (None, 14, 14, 256)  589824      conv4_block4_2_pad[0][0]         \n",
      "__________________________________________________________________________________________________\n",
      "conv4_block4_2_bn (BatchNormali (None, 14, 14, 256)  1024        conv4_block4_2_conv[0][0]        \n",
      "__________________________________________________________________________________________________\n",
      "conv4_block4_2_relu (Activation (None, 14, 14, 256)  0           conv4_block4_2_bn[0][0]          \n",
      "__________________________________________________________________________________________________\n",
      "conv4_block4_3_conv (Conv2D)    (None, 14, 14, 1024) 263168      conv4_block4_2_relu[0][0]        \n",
      "__________________________________________________________________________________________________\n",
      "conv4_block4_out (Add)          (None, 14, 14, 1024) 0           conv4_block3_out[0][0]           \n",
      "                                                                 conv4_block4_3_conv[0][0]        \n",
      "__________________________________________________________________________________________________\n",
      "conv4_block5_preact_bn (BatchNo (None, 14, 14, 1024) 4096        conv4_block4_out[0][0]           \n",
      "__________________________________________________________________________________________________\n",
      "conv4_block5_preact_relu (Activ (None, 14, 14, 1024) 0           conv4_block5_preact_bn[0][0]     \n",
      "__________________________________________________________________________________________________\n",
      "conv4_block5_1_conv (Conv2D)    (None, 14, 14, 256)  262144      conv4_block5_preact_relu[0][0]   \n",
      "__________________________________________________________________________________________________\n",
      "conv4_block5_1_bn (BatchNormali (None, 14, 14, 256)  1024        conv4_block5_1_conv[0][0]        \n",
      "__________________________________________________________________________________________________\n",
      "conv4_block5_1_relu (Activation (None, 14, 14, 256)  0           conv4_block5_1_bn[0][0]          \n",
      "__________________________________________________________________________________________________\n",
      "conv4_block5_2_pad (ZeroPadding (None, 16, 16, 256)  0           conv4_block5_1_relu[0][0]        \n",
      "__________________________________________________________________________________________________\n",
      "conv4_block5_2_conv (Conv2D)    (None, 14, 14, 256)  589824      conv4_block5_2_pad[0][0]         \n",
      "__________________________________________________________________________________________________\n",
      "conv4_block5_2_bn (BatchNormali (None, 14, 14, 256)  1024        conv4_block5_2_conv[0][0]        \n",
      "__________________________________________________________________________________________________\n",
      "conv4_block5_2_relu (Activation (None, 14, 14, 256)  0           conv4_block5_2_bn[0][0]          \n",
      "__________________________________________________________________________________________________\n",
      "conv4_block5_3_conv (Conv2D)    (None, 14, 14, 1024) 263168      conv4_block5_2_relu[0][0]        \n",
      "__________________________________________________________________________________________________\n",
      "conv4_block5_out (Add)          (None, 14, 14, 1024) 0           conv4_block4_out[0][0]           \n",
      "                                                                 conv4_block5_3_conv[0][0]        \n",
      "__________________________________________________________________________________________________\n",
      "conv4_block6_preact_bn (BatchNo (None, 14, 14, 1024) 4096        conv4_block5_out[0][0]           \n",
      "__________________________________________________________________________________________________\n",
      "conv4_block6_preact_relu (Activ (None, 14, 14, 1024) 0           conv4_block6_preact_bn[0][0]     \n",
      "__________________________________________________________________________________________________\n",
      "conv4_block6_1_conv (Conv2D)    (None, 14, 14, 256)  262144      conv4_block6_preact_relu[0][0]   \n",
      "__________________________________________________________________________________________________\n",
      "conv4_block6_1_bn (BatchNormali (None, 14, 14, 256)  1024        conv4_block6_1_conv[0][0]        \n",
      "__________________________________________________________________________________________________\n",
      "conv4_block6_1_relu (Activation (None, 14, 14, 256)  0           conv4_block6_1_bn[0][0]          \n",
      "__________________________________________________________________________________________________\n",
      "conv4_block6_2_pad (ZeroPadding (None, 16, 16, 256)  0           conv4_block6_1_relu[0][0]        \n",
      "__________________________________________________________________________________________________\n",
      "conv4_block6_2_conv (Conv2D)    (None, 7, 7, 256)    589824      conv4_block6_2_pad[0][0]         \n",
      "__________________________________________________________________________________________________\n",
      "conv4_block6_2_bn (BatchNormali (None, 7, 7, 256)    1024        conv4_block6_2_conv[0][0]        \n",
      "__________________________________________________________________________________________________\n",
      "conv4_block6_2_relu (Activation (None, 7, 7, 256)    0           conv4_block6_2_bn[0][0]          \n",
      "__________________________________________________________________________________________________\n",
      "max_pooling2d_2 (MaxPooling2D)  (None, 7, 7, 1024)   0           conv4_block5_out[0][0]           \n",
      "__________________________________________________________________________________________________\n",
      "conv4_block6_3_conv (Conv2D)    (None, 7, 7, 1024)   263168      conv4_block6_2_relu[0][0]        \n",
      "__________________________________________________________________________________________________\n",
      "conv4_block6_out (Add)          (None, 7, 7, 1024)   0           max_pooling2d_2[0][0]            \n",
      "                                                                 conv4_block6_3_conv[0][0]        \n",
      "__________________________________________________________________________________________________\n",
      "conv5_block1_preact_bn (BatchNo (None, 7, 7, 1024)   4096        conv4_block6_out[0][0]           \n",
      "__________________________________________________________________________________________________\n",
      "conv5_block1_preact_relu (Activ (None, 7, 7, 1024)   0           conv5_block1_preact_bn[0][0]     \n",
      "__________________________________________________________________________________________________\n",
      "conv5_block1_1_conv (Conv2D)    (None, 7, 7, 512)    524288      conv5_block1_preact_relu[0][0]   \n",
      "__________________________________________________________________________________________________\n",
      "conv5_block1_1_bn (BatchNormali (None, 7, 7, 512)    2048        conv5_block1_1_conv[0][0]        \n",
      "__________________________________________________________________________________________________\n",
      "conv5_block1_1_relu (Activation (None, 7, 7, 512)    0           conv5_block1_1_bn[0][0]          \n",
      "__________________________________________________________________________________________________\n",
      "conv5_block1_2_pad (ZeroPadding (None, 9, 9, 512)    0           conv5_block1_1_relu[0][0]        \n",
      "__________________________________________________________________________________________________\n",
      "conv5_block1_2_conv (Conv2D)    (None, 7, 7, 512)    2359296     conv5_block1_2_pad[0][0]         \n",
      "__________________________________________________________________________________________________\n",
      "conv5_block1_2_bn (BatchNormali (None, 7, 7, 512)    2048        conv5_block1_2_conv[0][0]        \n",
      "__________________________________________________________________________________________________\n",
      "conv5_block1_2_relu (Activation (None, 7, 7, 512)    0           conv5_block1_2_bn[0][0]          \n",
      "__________________________________________________________________________________________________\n",
      "conv5_block1_0_conv (Conv2D)    (None, 7, 7, 2048)   2099200     conv5_block1_preact_relu[0][0]   \n",
      "__________________________________________________________________________________________________\n",
      "conv5_block1_3_conv (Conv2D)    (None, 7, 7, 2048)   1050624     conv5_block1_2_relu[0][0]        \n",
      "__________________________________________________________________________________________________\n",
      "conv5_block1_out (Add)          (None, 7, 7, 2048)   0           conv5_block1_0_conv[0][0]        \n",
      "                                                                 conv5_block1_3_conv[0][0]        \n",
      "__________________________________________________________________________________________________\n",
      "conv5_block2_preact_bn (BatchNo (None, 7, 7, 2048)   8192        conv5_block1_out[0][0]           \n",
      "__________________________________________________________________________________________________\n",
      "conv5_block2_preact_relu (Activ (None, 7, 7, 2048)   0           conv5_block2_preact_bn[0][0]     \n",
      "__________________________________________________________________________________________________\n",
      "conv5_block2_1_conv (Conv2D)    (None, 7, 7, 512)    1048576     conv5_block2_preact_relu[0][0]   \n",
      "__________________________________________________________________________________________________\n",
      "conv5_block2_1_bn (BatchNormali (None, 7, 7, 512)    2048        conv5_block2_1_conv[0][0]        \n",
      "__________________________________________________________________________________________________\n",
      "conv5_block2_1_relu (Activation (None, 7, 7, 512)    0           conv5_block2_1_bn[0][0]          \n",
      "__________________________________________________________________________________________________\n",
      "conv5_block2_2_pad (ZeroPadding (None, 9, 9, 512)    0           conv5_block2_1_relu[0][0]        \n",
      "__________________________________________________________________________________________________\n",
      "conv5_block2_2_conv (Conv2D)    (None, 7, 7, 512)    2359296     conv5_block2_2_pad[0][0]         \n",
      "__________________________________________________________________________________________________\n",
      "conv5_block2_2_bn (BatchNormali (None, 7, 7, 512)    2048        conv5_block2_2_conv[0][0]        \n",
      "__________________________________________________________________________________________________\n",
      "conv5_block2_2_relu (Activation (None, 7, 7, 512)    0           conv5_block2_2_bn[0][0]          \n",
      "__________________________________________________________________________________________________\n",
      "conv5_block2_3_conv (Conv2D)    (None, 7, 7, 2048)   1050624     conv5_block2_2_relu[0][0]        \n",
      "__________________________________________________________________________________________________\n",
      "conv5_block2_out (Add)          (None, 7, 7, 2048)   0           conv5_block1_out[0][0]           \n",
      "                                                                 conv5_block2_3_conv[0][0]        \n",
      "__________________________________________________________________________________________________\n",
      "conv5_block3_preact_bn (BatchNo (None, 7, 7, 2048)   8192        conv5_block2_out[0][0]           \n",
      "__________________________________________________________________________________________________\n",
      "conv5_block3_preact_relu (Activ (None, 7, 7, 2048)   0           conv5_block3_preact_bn[0][0]     \n",
      "__________________________________________________________________________________________________\n",
      "conv5_block3_1_conv (Conv2D)    (None, 7, 7, 512)    1048576     conv5_block3_preact_relu[0][0]   \n",
      "__________________________________________________________________________________________________\n",
      "conv5_block3_1_bn (BatchNormali (None, 7, 7, 512)    2048        conv5_block3_1_conv[0][0]        \n",
      "__________________________________________________________________________________________________\n",
      "conv5_block3_1_relu (Activation (None, 7, 7, 512)    0           conv5_block3_1_bn[0][0]          \n",
      "__________________________________________________________________________________________________\n",
      "conv5_block3_2_pad (ZeroPadding (None, 9, 9, 512)    0           conv5_block3_1_relu[0][0]        \n",
      "__________________________________________________________________________________________________\n",
      "conv5_block3_2_conv (Conv2D)    (None, 7, 7, 512)    2359296     conv5_block3_2_pad[0][0]         \n",
      "__________________________________________________________________________________________________\n",
      "conv5_block3_2_bn (BatchNormali (None, 7, 7, 512)    2048        conv5_block3_2_conv[0][0]        \n",
      "__________________________________________________________________________________________________\n",
      "conv5_block3_2_relu (Activation (None, 7, 7, 512)    0           conv5_block3_2_bn[0][0]          \n",
      "__________________________________________________________________________________________________\n",
      "conv5_block3_3_conv (Conv2D)    (None, 7, 7, 2048)   1050624     conv5_block3_2_relu[0][0]        \n",
      "__________________________________________________________________________________________________\n",
      "conv5_block3_out (Add)          (None, 7, 7, 2048)   0           conv5_block2_out[0][0]           \n",
      "                                                                 conv5_block3_3_conv[0][0]        \n",
      "__________________________________________________________________________________________________\n",
      "post_bn (BatchNormalization)    (None, 7, 7, 2048)   8192        conv5_block3_out[0][0]           \n",
      "__________________________________________________________________________________________________\n",
      "post_relu (Activation)          (None, 7, 7, 2048)   0           post_bn[0][0]                    \n",
      "__________________________________________________________________________________________________\n",
      "global_average_pooling2d (Globa (None, 2048)         0           post_relu[0][0]                  \n",
      "__________________________________________________________________________________________________\n",
      "dense (Dense)                   (None, 128)          262272      global_average_pooling2d[0][0]   \n",
      "__________________________________________________________________________________________________\n",
      "dense_1 (Dense)                 (None, 1)            129         dense[0][0]                      \n",
      "==================================================================================================\n",
      "Total params: 23,827,201\n",
      "Trainable params: 262,401\n",
      "Non-trainable params: 23,564,800\n",
      "__________________________________________________________________________________________________\n"
     ]
    }
   ],
   "source": [
    "res_model.summary()"
   ]
  },
  {
   "cell_type": "code",
   "execution_count": null,
   "id": "c3f8f0f0",
   "metadata": {
    "execution": {
     "iopub.execute_input": "2022-09-05T15:47:01.083733Z",
     "iopub.status.busy": "2022-09-05T15:47:01.083425Z",
     "iopub.status.idle": "2022-09-05T15:47:11.308336Z",
     "shell.execute_reply": "2022-09-05T15:47:11.306813Z"
    },
    "papermill": {
     "duration": 10.281957,
     "end_time": "2022-09-05T15:47:11.348491",
     "exception": false,
     "start_time": "2022-09-05T15:47:01.066534",
     "status": "completed"
    },
    "tags": []
   },
   "outputs": [],
   "source": [
    "plot_model(res_model, to_file='cnn_model.png', show_shapes=True, show_layer_names=True)\n",
    "display(Image.open('cnn_model.png'))"
   ]
  },
  {
   "cell_type": "code",
   "execution_count": null,
   "id": "05a7d8d9",
   "metadata": {
    "execution": {
     "iopub.execute_input": "2022-09-05T15:47:11.496725Z",
     "iopub.status.busy": "2022-09-05T15:47:11.496313Z",
     "iopub.status.idle": "2022-09-05T16:26:06.094484Z",
     "shell.execute_reply": "2022-09-05T16:26:06.092931Z"
    },
    "papermill": {
     "duration": 2334.688786,
     "end_time": "2022-09-05T16:26:06.096889",
     "exception": false,
     "start_time": "2022-09-05T15:47:11.408103",
     "status": "completed"
    },
    "tags": []
   },
   "outputs": [],
   "source": [
    "history = res_model.fit(train,epochs=30, \n",
    "                    validation_data=validation,\n",
    "                     steps_per_epoch=100,\n",
    "                    callbacks=[early_stopping,lr],\n",
    "                    batch_size=32)"
   ]
  },
  {
   "cell_type": "code",
   "execution_count": null,
   "id": "73b08060",
   "metadata": {
    "execution": {
     "iopub.execute_input": "2022-09-05T16:26:06.889908Z",
     "iopub.status.busy": "2022-09-05T16:26:06.889344Z",
     "iopub.status.idle": "2022-09-05T16:26:07.329508Z",
     "shell.execute_reply": "2022-09-05T16:26:07.328607Z"
    },
    "papermill": {
     "duration": 0.60278,
     "end_time": "2022-09-05T16:26:07.332362",
     "exception": false,
     "start_time": "2022-09-05T16:26:06.729582",
     "status": "completed"
    },
    "tags": []
   },
   "outputs": [],
   "source": [
    "#Plot the training artifacts\n",
    "fig , ax = plt.subplots(1, 2)\n",
    "fig.set_size_inches(20, 10)\n",
    "\n",
    "train_acc = history.history['accuracy']\n",
    "train_loss = history.history['loss']\n",
    "val_acc = history.history['val_accuracy']\n",
    "val_loss = history.history['val_loss']\n",
    "\n",
    "epochs = range(1, len(train_acc) + 1)\n",
    "\n",
    "ax[0].plot(epochs, train_acc , 'go-' , label = 'Training Accuracy')\n",
    "ax[0].plot(epochs , val_acc , 'yo-' , label = 'Validation Accuracy')\n",
    "ax[0].set_title('Model Train & Validation Accuracy')\n",
    "ax[0].legend()\n",
    "ax[0].set_xlabel('Epochs')\n",
    "ax[0].set_ylabel('Accuracy')\n",
    "\n",
    "ax[1].plot(epochs, train_loss , 'go-' , label = 'Training Loss')\n",
    "ax[1].plot(epochs, val_loss , 'yo-' , label = 'Validation Loss')\n",
    "ax[1].set_title('Model Train & Validation Loss')\n",
    "ax[1].legend()\n",
    "ax[1].set_xlabel('Epochs')\n",
    "ax[1].set_ylabel('Loss')\n",
    "\n"
   ]
  },
  {
   "cell_type": "code",
   "execution_count": null,
   "id": "7c57da2a",
   "metadata": {
    "execution": {
     "iopub.execute_input": "2022-09-05T16:26:07.975209Z",
     "iopub.status.busy": "2022-09-05T16:26:07.974847Z",
     "iopub.status.idle": "2022-09-05T16:28:42.974331Z",
     "shell.execute_reply": "2022-09-05T16:28:42.972690Z"
    },
    "papermill": {
     "duration": 155.173376,
     "end_time": "2022-09-05T16:28:42.977018",
     "exception": false,
     "start_time": "2022-09-05T16:26:07.803642",
     "status": "completed"
    },
    "tags": []
   },
   "outputs": [],
   "source": [
    "score = res_model.evaluate(train)\n",
    "\n",
    "print(\"Train Loss: \", score[0])\n",
    "print(\"Train Accuracy: \", score[1])\n",
    "\n",
    "score = res_model.evaluate(test)\n",
    "print(\"\\nTest loss: \", score[0])\n",
    "print(\"Test Accuracy: \", score[1])\n"
   ]
  }
 ],
 "metadata": {
  "kernelspec": {
   "display_name": "Python 3",
   "language": "python",
   "name": "python3"
  },
  "language_info": {
   "codemirror_mode": {
    "name": "ipython",
    "version": 3
   },
   "file_extension": ".py",
   "mimetype": "text/x-python",
   "name": "python",
   "nbconvert_exporter": "python",
   "pygments_lexer": "ipython3",
   "version": "3.7.12"
  },
  "papermill": {
   "default_parameters": {},
   "duration": 2536.536699,
   "end_time": "2022-09-05T16:28:46.409119",
   "environment_variables": {},
   "exception": null,
   "input_path": "__notebook__.ipynb",
   "output_path": "__notebook__.ipynb",
   "parameters": {},
   "start_time": "2022-09-05T15:46:29.872420",
   "version": "2.3.4"
  }
 },
 "nbformat": 4,
 "nbformat_minor": 5
}
