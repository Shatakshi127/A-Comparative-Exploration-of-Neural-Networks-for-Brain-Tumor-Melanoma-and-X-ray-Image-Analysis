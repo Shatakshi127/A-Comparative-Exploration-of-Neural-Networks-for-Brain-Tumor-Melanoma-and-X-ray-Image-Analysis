{
 "cells": [
  {
   "cell_type": "code",
   "execution_count": 1,
   "metadata": {
    "_kg_hide-input": true,
    "execution": {
     "iopub.execute_input": "2020-11-21T21:54:26.371274Z",
     "iopub.status.busy": "2020-11-21T21:54:26.370352Z",
     "iopub.status.idle": "2020-11-21T21:54:47.325102Z",
     "shell.execute_reply": "2020-11-21T21:54:47.324435Z"
    },
    "papermill": {
     "duration": 21.002762,
     "end_time": "2020-11-21T21:54:47.325235",
     "exception": false,
     "start_time": "2020-11-21T21:54:26.322473",
     "status": "completed"
    },
    "tags": []
   },
   "outputs": [],
   "source": [
    "from IPython.display import clear_output\n",
    "!pip install imutils\n",
    "!pip install -q efficientnet\n",
    "clear_output()"
   ]
  },
  {
   "cell_type": "code",
   "execution_count": 2,
   "metadata": {
    "_cell_guid": "b1076dfc-b9ad-4769-8c92-a6c4dae69d19",
    "_uuid": "8f2839f25d086af736a60e9eeb907d3b93b6e0e5",
    "execution": {
     "iopub.execute_input": "2020-11-21T21:54:47.437085Z",
     "iopub.status.busy": "2020-11-21T21:54:47.434489Z",
     "iopub.status.idle": "2020-11-21T21:54:56.576150Z",
     "shell.execute_reply": "2020-11-21T21:54:56.575114Z"
    },
    "papermill": {
     "duration": 9.208441,
     "end_time": "2020-11-21T21:54:56.576273",
     "exception": false,
     "start_time": "2020-11-21T21:54:47.367832",
     "status": "completed"
    },
    "tags": []
   },
   "outputs": [
    {
     "data": {
      "text/html": [
       "        <script type=\"text/javascript\">\n",
       "        window.PlotlyConfig = {MathJaxConfig: 'local'};\n",
       "        if (window.MathJax) {MathJax.Hub.Config({SVG: {font: \"STIX-Web\"}});}\n",
       "        if (typeof require !== 'undefined') {\n",
       "        require.undef(\"plotly\");\n",
       "        requirejs.config({\n",
       "            paths: {\n",
       "                'plotly': ['https://cdn.plot.ly/plotly-latest.min']\n",
       "            }\n",
       "        });\n",
       "        require(['plotly'], function(Plotly) {\n",
       "            window._Plotly = Plotly;\n",
       "        });\n",
       "        }\n",
       "        </script>\n",
       "        "
      ]
     },
     "metadata": {},
     "output_type": "display_data"
    }
   ],
   "source": [
    "import warnings\n",
    "warnings.filterwarnings(\"ignore\")\n",
    "\n",
    "import os\n",
    "import sys\n",
    "import cv2\n",
    "import math\n",
    "import umap\n",
    "import keras\n",
    "import shutil\n",
    "import random\n",
    "import imutils\n",
    "import itertools\n",
    "import numpy as np\n",
    "import pandas as pd\n",
    "import seaborn as sns\n",
    "import tensorflow as tf\n",
    "import plotly.graph_objs as go\n",
    "import matplotlib.pyplot as plt\n",
    "import efficientnet.tfkeras as efn\n",
    "\n",
    "\n",
    "from tqdm import tqdm\n",
    "from PIL import Image\n",
    "from os import listdir\n",
    "from scipy import misc\n",
    "from keras import layers\n",
    "from plotly import tools\n",
    "from random import shuffle\n",
    "from itertools import chain\n",
    "from numpy import expand_dims\n",
    "from matplotlib import pyplot \n",
    "from keras import backend as K\n",
    "from keras.layers import Input\n",
    "from collections import Counter\n",
    "from os.path import isfile, join\n",
    "from sklearn.manifold import TSNE\n",
    "from skimage.transform import resize\n",
    "from skimage.morphology import label\n",
    "from sklearn.metrics import f1_score\n",
    "from sklearn.decomposition import PCA\n",
    "from IPython.display import clear_output\n",
    "from sklearn.metrics import recall_score\n",
    "from sklearn.datasets import make_circles\n",
    "from sklearn.metrics import roc_auc_score\n",
    "from keras.layers.merge import concatenate\n",
    "from keras.optimizers import Adam, RMSprop\n",
    "from sklearn.metrics import precision_score\n",
    "from keras.layers.core import Dropout, Lambda\n",
    "from sklearn.metrics import cohen_kappa_score\n",
    "from keras.layers import Conv2D, MaxPooling2D\n",
    "from keras.layers.pooling import MaxPooling2D\n",
    "from keras.preprocessing.image import load_img\n",
    "from keras.utils.np_utils import to_categorical\n",
    "from sklearn.preprocessing import LabelBinarizer\n",
    "from keras.applications.resnet50 import ResNet50\n",
    "from keras.preprocessing.image import img_to_array\n",
    "from sklearn.model_selection import train_test_split\n",
    "from plotly.offline import init_notebook_mode, iplot\n",
    "from keras.models import Model, Sequential, load_model\n",
    "from keras.preprocessing.image import ImageDataGenerator\n",
    "from keras.callbacks import EarlyStopping, ModelCheckpoint\n",
    "from keras.applications.vgg19 import VGG19, preprocess_input\n",
    "from sklearn.metrics import accuracy_score, confusion_matrix\n",
    "from keras.applications.vgg16 import VGG16, preprocess_input\n",
    "from keras.layers import Activation, Dropout, Flatten, Dense\n",
    "from keras.layers.convolutional import Conv2D, Conv2DTranspose\n",
    "from skimage.io import imread, imshow, imread_collection, concatenate_images\n",
    "\n",
    "\n",
    "init_notebook_mode(connected=True)\n",
    "RANDOM_SEED = 1998\n",
    "EPOCHS = 128"
   ]
  },
  {
   "cell_type": "code",
   "execution_count": null,
   "metadata": {
    "_kg_hide-input": true,
    "execution": {
     "iopub.execute_input": "2020-11-21T21:54:56.760674Z",
     "iopub.status.busy": "2020-11-21T21:54:56.759735Z",
     "iopub.status.idle": "2020-11-21T21:55:02.299634Z",
     "shell.execute_reply": "2020-11-21T21:55:02.298547Z"
    },
    "papermill": {
     "duration": 5.590526,
     "end_time": "2020-11-21T21:55:02.299774",
     "exception": false,
     "start_time": "2020-11-21T21:54:56.709248",
     "status": "completed"
    },
    "tags": []
   },
   "outputs": [],
   "source": [
    "!apt-get install tree\n",
    "clear_output()\n",
    "!mkdir TRAIN TEST VAL TRAIN/YES TRAIN/NO TEST/YES TEST/NO VAL/YES VAL/NO\n",
    "!tree -d"
   ]
  },
  {
   "cell_type": "code",
   "execution_count": 4,
   "metadata": {
    "execution": {
     "iopub.execute_input": "2020-11-21T21:55:02.394236Z",
     "iopub.status.busy": "2020-11-21T21:55:02.393501Z",
     "iopub.status.idle": "2020-11-21T21:55:08.279072Z",
     "shell.execute_reply": "2020-11-21T21:55:08.280467Z"
    },
    "papermill": {
     "duration": 5.939501,
     "end_time": "2020-11-21T21:55:08.280688",
     "exception": false,
     "start_time": "2020-11-21T21:55:02.341187",
     "status": "completed"
    },
    "tags": []
   },
   "outputs": [
    {
     "name": "stdout",
     "output_type": "stream",
     "text": [
      "../input/brain-tumor-detection/     yes\n",
      "../input/brain-tumor-detection/     no\n"
     ]
    }
   ],
   "source": [
    "IMG_PATH = '../input/brain-tumor-detection/'\n",
    "for CLASS in os.listdir(IMG_PATH):\n",
    "    if (not CLASS.startswith('.') and (not CLASS.startswith('pred'))):\n",
    "        print(IMG_PATH + '     ' + CLASS)\n",
    "        IMG_NUM = len(os.listdir(IMG_PATH + CLASS))\n",
    "        for (n, FILE_NAME) in enumerate(os.listdir(IMG_PATH + CLASS)):\n",
    "            img = IMG_PATH + CLASS + '/' + FILE_NAME\n",
    "            if n < 200:\n",
    "                shutil.copy(img, 'TEST/' + CLASS.upper() + '/' + FILE_NAME)\n",
    "            elif n < 1200:\n",
    "                shutil.copy(img, 'TRAIN/'+ CLASS.upper() + '/' + FILE_NAME)\n",
    "            else:\n",
    "                shutil.copy(img, 'VAL/'+ CLASS.upper() + '/' + FILE_NAME)"
   ]
  },
  {
   "cell_type": "code",
   "execution_count": 5,
   "metadata": {
    "_cell_guid": "79c7e3d0-c299-4dcb-8224-4455121ee9b0",
    "_kg_hide-input": true,
    "_uuid": "d629ff2d2480ee46fbb7e2d37f6b5fab8052498a",
    "execution": {
     "iopub.execute_input": "2020-11-21T21:55:08.567234Z",
     "iopub.status.busy": "2020-11-21T21:55:08.566169Z",
     "iopub.status.idle": "2020-11-21T21:55:08.586189Z",
     "shell.execute_reply": "2020-11-21T21:55:08.587458Z"
    },
    "papermill": {
     "duration": 0.101809,
     "end_time": "2020-11-21T21:55:08.587655",
     "exception": false,
     "start_time": "2020-11-21T21:55:08.485846",
     "status": "completed"
    },
    "tags": []
   },
   "outputs": [],
   "source": [
    "def load_data(dir_path, img_size=(100,100)):\n",
    "    \"\"\"\n",
    "    Load resized images as np.arrays to workspace\n",
    "    \"\"\"\n",
    "    X = []\n",
    "    y = []\n",
    "    i = 0\n",
    "    labels = dict()\n",
    "    for path in tqdm(sorted(os.listdir(dir_path))):\n",
    "        if not path.startswith('.'):\n",
    "            labels[i] = path\n",
    "            for file in os.listdir(dir_path + path):\n",
    "                if not file.startswith('.'):\n",
    "                    img = cv2.imread(dir_path + path + '/' + file)\n",
    "                    X.append(img)\n",
    "                    y.append(i)\n",
    "            i += 1\n",
    "    X = np.array(X)\n",
    "    y = np.array(y)\n",
    "    print(f'{len(X)} images loaded from {dir_path} directory.')\n",
    "    return X, y, labels\n",
    "\n",
    "\n",
    "\n",
    "def plot_confusion_matrix(cm, classes,\n",
    "                          normalize=False,\n",
    "                          title='Confusion matrix',\n",
    "                          cmap=plt.cm.Blues):\n",
    "    \"\"\"\n",
    "    This function prints and plots the confusion matrix.\n",
    "    Normalization can be applied by setting `normalize=True`.\n",
    "    \"\"\"\n",
    "    plt.figure(figsize = (6,6))\n",
    "    plt.imshow(cm, interpolation='nearest', cmap=cmap)\n",
    "    plt.title(title)\n",
    "    plt.colorbar()\n",
    "    tick_marks = np.arange(len(classes))\n",
    "    plt.xticks(tick_marks, classes, rotation=90)\n",
    "    plt.yticks(tick_marks, classes)\n",
    "    if normalize:\n",
    "        cm = cm.astype('float') / cm.sum(axis=1)[:, np.newaxis]\n",
    "\n",
    "    thresh = cm.max() / 2.\n",
    "    cm = np.round(cm,2)\n",
    "    for i, j in itertools.product(range(cm.shape[0]), range(cm.shape[1])):\n",
    "        plt.text(j, i, cm[i, j],\n",
    "                 horizontalalignment=\"center\",\n",
    "                 color=\"white\" if cm[i, j] > thresh else \"black\")\n",
    "    plt.tight_layout()\n",
    "    plt.ylabel('True label')\n",
    "    plt.xlabel('Predicted label')\n",
    "    plt.show()"
   ]
  },
  {
   "cell_type": "code",
   "execution_count": null,
   "metadata": {
    "execution": {
     "iopub.execute_input": "2020-11-21T21:55:08.726319Z",
     "iopub.status.busy": "2020-11-21T21:55:08.725369Z",
     "iopub.status.idle": "2020-11-21T21:55:14.703505Z",
     "shell.execute_reply": "2020-11-21T21:55:14.704210Z"
    },
    "papermill": {
     "duration": 6.050851,
     "end_time": "2020-11-21T21:55:14.704419",
     "exception": false,
     "start_time": "2020-11-21T21:55:08.653568",
     "status": "completed"
    },
    "tags": []
   },
   "outputs": [],
   "source": [
    "TRAIN_DIR = 'TRAIN/'\n",
    "TEST_DIR = 'TEST/'\n",
    "VAL_DIR = 'VAL/'\n",
    "IMG_SIZE = (224,224)\n",
    "\n",
    "X_train, y_train, labels = load_data(TRAIN_DIR, IMG_SIZE)\n",
    "X_test, y_test, _ = load_data(TEST_DIR, IMG_SIZE)\n",
    "X_val, y_val, _ = load_data(VAL_DIR, IMG_SIZE)"
   ]
  },
  {
   "cell_type": "code",
   "execution_count": null,
   "metadata": {
    "_kg_hide-input": true,
    "execution": {
     "iopub.execute_input": "2020-11-21T21:55:14.925901Z",
     "iopub.status.busy": "2020-11-21T21:55:14.925050Z",
     "iopub.status.idle": "2020-11-21T21:55:15.892525Z",
     "shell.execute_reply": "2020-11-21T21:55:15.891326Z"
    },
    "papermill": {
     "duration": 1.018511,
     "end_time": "2020-11-21T21:55:15.892676",
     "exception": false,
     "start_time": "2020-11-21T21:55:14.874165",
     "status": "completed"
    },
    "tags": []
   },
   "outputs": [],
   "source": [
    "y = dict()\n",
    "y[0] = []\n",
    "y[1] = []\n",
    "for set_name in (y_train, y_val, y_test):\n",
    "    y[0].append(np.sum(set_name == 0))\n",
    "    y[1].append(np.sum(set_name == 1))\n",
    "\n",
    "trace0 = go.Bar(\n",
    "    x=['Train Set', 'Validation Set', 'Test Set'],\n",
    "    y=y[0],\n",
    "    name='No',\n",
    "    marker=dict(color='#33cc33'),\n",
    "    opacity=0.7\n",
    ")\n",
    "trace1 = go.Bar(\n",
    "    x=['Train Set', 'Validation Set', 'Test Set'],\n",
    "    y=y[1],\n",
    "    name='Yes',\n",
    "    marker=dict(color='#ff3300'),\n",
    "    opacity=0.7\n",
    ")\n",
    "data = [trace0, trace1]\n",
    "layout = go.Layout(\n",
    "    title='Count of classes in each set',\n",
    "    xaxis={'title': 'Set'},\n",
    "    yaxis={'title': 'Count'}\n",
    ")\n",
    "fig = go.Figure(data, layout)\n",
    "iplot(fig)"
   ]
  },
  {
   "cell_type": "code",
   "execution_count": 8,
   "metadata": {
    "_kg_hide-input": true,
    "execution": {
     "iopub.execute_input": "2020-11-21T21:55:16.069645Z",
     "iopub.status.busy": "2020-11-21T21:55:16.066157Z",
     "iopub.status.idle": "2020-11-21T21:55:16.084702Z",
     "shell.execute_reply": "2020-11-21T21:55:16.085302Z"
    },
    "papermill": {
     "duration": 0.100858,
     "end_time": "2020-11-21T21:55:16.085452",
     "exception": false,
     "start_time": "2020-11-21T21:55:15.984594",
     "status": "completed"
    },
    "tags": []
   },
   "outputs": [],
   "source": [
    "def plot_samples(X, y, labels_dict, n=50):\n",
    "    \"\"\"\n",
    "    Creates a gridplot for desired number of images (n) from the specified set\n",
    "    \"\"\"\n",
    "    for index in range(len(labels_dict)):\n",
    "        imgs = X[np.argwhere(y == index)][:n]\n",
    "        j = 10\n",
    "        i = int(n/j)\n",
    "\n",
    "        plt.figure(figsize=(15,6))\n",
    "        c = 1\n",
    "        for img in imgs:\n",
    "            plt.subplot(i,j,c)\n",
    "            plt.imshow(img[0])\n",
    "\n",
    "            plt.xticks([])\n",
    "            plt.yticks([])\n",
    "            c += 1\n",
    "        plt.suptitle('Tumor: {}'.format(labels_dict[index]))\n",
    "        plt.show()"
   ]
  },
  {
   "cell_type": "code",
   "execution_count": null,
   "metadata": {
    "execution": {
     "iopub.execute_input": "2020-11-21T21:55:16.257206Z",
     "iopub.status.busy": "2020-11-21T21:55:16.255944Z",
     "iopub.status.idle": "2020-11-21T21:55:17.442520Z",
     "shell.execute_reply": "2020-11-21T21:55:17.443138Z"
    },
    "papermill": {
     "duration": 1.276644,
     "end_time": "2020-11-21T21:55:17.443288",
     "exception": false,
     "start_time": "2020-11-21T21:55:16.166644",
     "status": "completed"
    },
    "tags": []
   },
   "outputs": [],
   "source": [
    "plot_samples(X_train, y_train, labels, 10)"
   ]
  },
  {
   "cell_type": "code",
   "execution_count": null,
   "metadata": {
    "_kg_hide-input": true,
    "execution": {
     "iopub.execute_input": "2020-11-21T21:55:17.732187Z",
     "iopub.status.busy": "2020-11-21T21:55:17.724534Z",
     "iopub.status.idle": "2020-11-21T21:55:17.926106Z",
     "shell.execute_reply": "2020-11-21T21:55:17.925460Z"
    },
    "papermill": {
     "duration": 0.273507,
     "end_time": "2020-11-21T21:55:17.926226",
     "exception": false,
     "start_time": "2020-11-21T21:55:17.652719",
     "status": "completed"
    },
    "tags": []
   },
   "outputs": [],
   "source": [
    "RATIO_LIST = []\n",
    "for set in (X_train, X_test, X_val):\n",
    "    for img in set:\n",
    "        RATIO_LIST.append(img.shape[1]/img.shape[0])\n",
    "        \n",
    "plt.hist(RATIO_LIST)\n",
    "plt.title('Distribution of Image Ratios')\n",
    "plt.xlabel('Ratio Value')\n",
    "plt.ylabel('Count')\n",
    "plt.show()"
   ]
  },
  {
   "cell_type": "code",
   "execution_count": 11,
   "metadata": {
    "_kg_hide-input": true,
    "execution": {
     "iopub.execute_input": "2020-11-21T21:55:18.218708Z",
     "iopub.status.busy": "2020-11-21T21:55:18.216795Z",
     "iopub.status.idle": "2020-11-21T21:55:18.219470Z",
     "shell.execute_reply": "2020-11-21T21:55:18.220003Z"
    },
    "papermill": {
     "duration": 0.085207,
     "end_time": "2020-11-21T21:55:18.220123",
     "exception": false,
     "start_time": "2020-11-21T21:55:18.134916",
     "status": "completed"
    },
    "tags": []
   },
   "outputs": [],
   "source": [
    "def crop_imgs(set_name, add_pixels_value=0):\n",
    "    \"\"\"\n",
    "    Finds the extreme points on the image and crops the rectangular out of them\n",
    "    \"\"\"\n",
    "    set_new = []\n",
    "    for img in set_name:\n",
    "        gray = cv2.cvtColor(img, cv2.COLOR_RGB2GRAY)\n",
    "        gray = cv2.GaussianBlur(gray, (5, 5), 0)\n",
    "\n",
    "        # threshold the image, then perform a series of erosions +\n",
    "        # dilations to remove any small regions of noise\n",
    "        thresh = cv2.threshold(gray, 45, 255, cv2.THRESH_BINARY)[1]\n",
    "        thresh = cv2.erode(thresh, None, iterations=2)\n",
    "        thresh = cv2.dilate(thresh, None, iterations=2)\n",
    "\n",
    "        # find contours in thresholded image, then grab the largest one\n",
    "        cnts = cv2.findContours(thresh.copy(), cv2.RETR_EXTERNAL, cv2.CHAIN_APPROX_SIMPLE)\n",
    "        cnts = imutils.grab_contours(cnts)\n",
    "        c = max(cnts, key=cv2.contourArea)\n",
    "\n",
    "        # find the extreme points\n",
    "        extLeft = tuple(c[c[:, :, 0].argmin()][0])\n",
    "        extRight = tuple(c[c[:, :, 0].argmax()][0])\n",
    "        extTop = tuple(c[c[:, :, 1].argmin()][0])\n",
    "        extBot = tuple(c[c[:, :, 1].argmax()][0])\n",
    "\n",
    "        ADD_PIXELS = add_pixels_value\n",
    "        new_img = img[extTop[1]-ADD_PIXELS:extBot[1]+ADD_PIXELS, extLeft[0]-ADD_PIXELS:extRight[0]+ADD_PIXELS].copy()\n",
    "        set_new.append(new_img)\n",
    "    return np.array(set_new)"
   ]
  },
  {
   "cell_type": "code",
   "execution_count": 12,
   "metadata": {
    "_kg_hide-input": true,
    "execution": {
     "iopub.execute_input": "2020-11-21T21:55:18.499501Z",
     "iopub.status.busy": "2020-11-21T21:55:18.498784Z",
     "iopub.status.idle": "2020-11-21T21:55:18.551791Z",
     "shell.execute_reply": "2020-11-21T21:55:18.551092Z"
    },
    "papermill": {
     "duration": 0.133766,
     "end_time": "2020-11-21T21:55:18.551892",
     "exception": false,
     "start_time": "2020-11-21T21:55:18.418126",
     "status": "completed"
    },
    "tags": []
   },
   "outputs": [],
   "source": [
    "img = cv2.imread('../input/brain-tumor-detection/yes/y66.jpg')\n",
    "img = cv2.resize(\n",
    "            img,\n",
    "            dsize=IMG_SIZE,\n",
    "            interpolation=cv2.INTER_CUBIC\n",
    "        )\n",
    "gray = cv2.cvtColor(img, cv2.COLOR_RGB2GRAY)\n",
    "gray = cv2.GaussianBlur(gray, (5, 5), 0)\n",
    "\n",
    "# threshold the image, then perform a series of erosions +\n",
    "# dilations to remove any small regions of noise\n",
    "thresh = cv2.threshold(gray, 45, 255, cv2.THRESH_BINARY)[1]\n",
    "thresh = cv2.erode(thresh, None, iterations=2)\n",
    "thresh = cv2.dilate(thresh, None, iterations=2)\n",
    "\n",
    "# find contours in thresholded image, then grab the largest one\n",
    "cnts = cv2.findContours(thresh.copy(), cv2.RETR_EXTERNAL, cv2.CHAIN_APPROX_SIMPLE)\n",
    "cnts = imutils.grab_contours(cnts)\n",
    "c = max(cnts, key=cv2.contourArea)\n",
    "\n",
    "# find the extreme points\n",
    "extLeft = tuple(c[c[:, :, 0].argmin()][0])\n",
    "extRight = tuple(c[c[:, :, 0].argmax()][0])\n",
    "extTop = tuple(c[c[:, :, 1].argmin()][0])\n",
    "extBot = tuple(c[c[:, :, 1].argmax()][0])\n",
    "\n",
    "# add contour on the image\n",
    "img_cnt = cv2.drawContours(img.copy(), [c], -1, (0, 255, 255), 4)\n",
    "\n",
    "# add extreme points\n",
    "img_pnt = cv2.circle(img_cnt.copy(), extLeft, 8, (0, 0, 255), -1)\n",
    "img_pnt = cv2.circle(img_pnt, extRight, 8, (0, 255, 0), -1)\n",
    "img_pnt = cv2.circle(img_pnt, extTop, 8, (255, 0, 0), -1)\n",
    "img_pnt = cv2.circle(img_pnt, extBot, 8, (255, 255, 0), -1)\n",
    "\n",
    "# crop\n",
    "ADD_PIXELS = 0\n",
    "new_img = img[extTop[1]-ADD_PIXELS:extBot[1]+ADD_PIXELS, extLeft[0]-ADD_PIXELS:extRight[0]+ADD_PIXELS].copy()"
   ]
  },
  {
   "cell_type": "code",
   "execution_count": null,
   "metadata": {
    "_kg_hide-input": true,
    "execution": {
     "iopub.execute_input": "2020-11-21T21:55:18.697842Z",
     "iopub.status.busy": "2020-11-21T21:55:18.689528Z",
     "iopub.status.idle": "2020-11-21T21:55:18.957930Z",
     "shell.execute_reply": "2020-11-21T21:55:18.958657Z"
    },
    "papermill": {
     "duration": 0.341295,
     "end_time": "2020-11-21T21:55:18.958853",
     "exception": false,
     "start_time": "2020-11-21T21:55:18.617558",
     "status": "completed"
    },
    "tags": []
   },
   "outputs": [],
   "source": [
    "plt.figure(figsize=(15,6))\n",
    "plt.subplot(141)\n",
    "plt.imshow(img)\n",
    "plt.xticks([])\n",
    "plt.yticks([])\n",
    "plt.title('Step 1. Get the original image')\n",
    "plt.subplot(142)\n",
    "plt.imshow(img_cnt)\n",
    "plt.xticks([])\n",
    "plt.yticks([])\n",
    "plt.title('Step 2. Find the biggest contour')\n",
    "plt.subplot(143)\n",
    "plt.imshow(img_pnt)\n",
    "plt.xticks([])\n",
    "plt.yticks([])\n",
    "plt.title('Step 3. Find the extreme points')\n",
    "plt.subplot(144)\n",
    "plt.imshow(new_img)\n",
    "plt.xticks([])\n",
    "plt.yticks([])\n",
    "plt.title('Step 4. Crop the image')\n",
    "plt.show()"
   ]
  },
  {
   "cell_type": "code",
   "execution_count": 14,
   "metadata": {
    "execution": {
     "iopub.execute_input": "2020-11-21T21:55:19.122100Z",
     "iopub.status.busy": "2020-11-21T21:55:19.119540Z",
     "iopub.status.idle": "2020-11-21T21:55:22.342949Z",
     "shell.execute_reply": "2020-11-21T21:55:22.342300Z"
    },
    "papermill": {
     "duration": 3.302592,
     "end_time": "2020-11-21T21:55:22.343091",
     "exception": false,
     "start_time": "2020-11-21T21:55:19.040499",
     "status": "completed"
    },
    "tags": []
   },
   "outputs": [],
   "source": [
    "# apply this for each set\n",
    "X_train_crop = crop_imgs(set_name=X_train)\n",
    "X_val_crop = crop_imgs(set_name=X_val)\n",
    "X_test_crop = crop_imgs(set_name=X_test)"
   ]
  },
  {
   "cell_type": "code",
   "execution_count": null,
   "metadata": {
    "execution": {
     "iopub.execute_input": "2020-11-21T21:55:22.500498Z",
     "iopub.status.busy": "2020-11-21T21:55:22.498866Z",
     "iopub.status.idle": "2020-11-21T21:55:23.532606Z",
     "shell.execute_reply": "2020-11-21T21:55:23.533258Z"
    },
    "papermill": {
     "duration": 1.118185,
     "end_time": "2020-11-21T21:55:23.533443",
     "exception": false,
     "start_time": "2020-11-21T21:55:22.415258",
     "status": "completed"
    },
    "tags": []
   },
   "outputs": [],
   "source": [
    "plot_samples(X_train_crop, y_train, labels, 10)"
   ]
  },
  {
   "cell_type": "code",
   "execution_count": 16,
   "metadata": {
    "_kg_hide-input": true,
    "execution": {
     "iopub.execute_input": "2020-11-21T21:55:23.691288Z",
     "iopub.status.busy": "2020-11-21T21:55:23.690473Z",
     "iopub.status.idle": "2020-11-21T21:55:23.694955Z",
     "shell.execute_reply": "2020-11-21T21:55:23.694455Z"
    },
    "papermill": {
     "duration": 0.084553,
     "end_time": "2020-11-21T21:55:23.695060",
     "exception": false,
     "start_time": "2020-11-21T21:55:23.610507",
     "status": "completed"
    },
    "tags": []
   },
   "outputs": [],
   "source": [
    "def save_new_images(x_set, y_set, folder_name):\n",
    "    i = 0\n",
    "    for (img, imclass) in zip(x_set, y_set):\n",
    "        if imclass == 0:\n",
    "            cv2.imwrite(folder_name+'NO/'+str(i)+'.jpg', img)\n",
    "        else:\n",
    "            cv2.imwrite(folder_name+'YES/'+str(i)+'.jpg', img)\n",
    "        i += 1"
   ]
  },
  {
   "cell_type": "code",
   "execution_count": 17,
   "metadata": {
    "execution": {
     "iopub.execute_input": "2020-11-21T21:55:23.864394Z",
     "iopub.status.busy": "2020-11-21T21:55:23.863461Z",
     "iopub.status.idle": "2020-11-21T21:55:31.335639Z",
     "shell.execute_reply": "2020-11-21T21:55:31.335087Z"
    },
    "papermill": {
     "duration": 7.56359,
     "end_time": "2020-11-21T21:55:31.335778",
     "exception": false,
     "start_time": "2020-11-21T21:55:23.772188",
     "status": "completed"
    },
    "tags": []
   },
   "outputs": [],
   "source": [
    "# saving new images to the folder\n",
    "!mkdir TRAIN_CROP TEST_CROP VAL_CROP TRAIN_CROP/YES TRAIN_CROP/NO TEST_CROP/YES TEST_CROP/NO VAL_CROP/YES VAL_CROP/NO\n",
    "\n",
    "save_new_images(X_train_crop, y_train, folder_name='TRAIN_CROP/')\n",
    "save_new_images(X_val_crop, y_val, folder_name='VAL_CROP/')\n",
    "save_new_images(X_test_crop, y_test, folder_name='TEST_CROP/')"
   ]
  },
  {
   "cell_type": "code",
   "execution_count": 18,
   "metadata": {
    "_kg_hide-input": true,
    "execution": {
     "iopub.execute_input": "2020-11-21T21:55:31.642607Z",
     "iopub.status.busy": "2020-11-21T21:55:31.641787Z",
     "iopub.status.idle": "2020-11-21T21:55:31.644941Z",
     "shell.execute_reply": "2020-11-21T21:55:31.644374Z"
    },
    "papermill": {
     "duration": 0.083163,
     "end_time": "2020-11-21T21:55:31.645054",
     "exception": false,
     "start_time": "2020-11-21T21:55:31.561891",
     "status": "completed"
    },
    "tags": []
   },
   "outputs": [],
   "source": [
    "def preprocess_imgs(set_name, img_size):\n",
    "    \"\"\"\n",
    "    Resize and apply VGG-15 preprocessing\n",
    "    \"\"\"\n",
    "    set_new = []\n",
    "    for img in set_name:\n",
    "        img = cv2.resize(\n",
    "            img,\n",
    "            dsize=img_size,\n",
    "            interpolation=cv2.INTER_CUBIC\n",
    "        )\n",
    "        set_new.append(preprocess_input(img))\n",
    "    return np.array(set_new)"
   ]
  },
  {
   "cell_type": "code",
   "execution_count": 19,
   "metadata": {
    "execution": {
     "iopub.execute_input": "2020-11-21T21:55:31.799349Z",
     "iopub.status.busy": "2020-11-21T21:55:31.798145Z",
     "iopub.status.idle": "2020-11-21T21:55:35.797061Z",
     "shell.execute_reply": "2020-11-21T21:55:35.795698Z"
    },
    "papermill": {
     "duration": 4.077862,
     "end_time": "2020-11-21T21:55:35.797188",
     "exception": false,
     "start_time": "2020-11-21T21:55:31.719326",
     "status": "completed"
    },
    "tags": []
   },
   "outputs": [],
   "source": [
    "X_train_prep = preprocess_imgs(set_name=X_train_crop, img_size=IMG_SIZE)\n",
    "X_test_prep = preprocess_imgs(set_name=X_test_crop, img_size=IMG_SIZE)\n",
    "X_val_prep = preprocess_imgs(set_name=X_val_crop, img_size=IMG_SIZE)"
   ]
  },
  {
   "cell_type": "code",
   "execution_count": 20,
   "metadata": {
    "execution": {
     "iopub.execute_input": "2020-11-21T21:55:35.954399Z",
     "iopub.status.busy": "2020-11-21T21:55:35.953602Z",
     "iopub.status.idle": "2020-11-21T21:55:35.957538Z",
     "shell.execute_reply": "2020-11-21T21:55:35.957032Z"
    },
    "papermill": {
     "duration": 0.081029,
     "end_time": "2020-11-21T21:55:35.957638",
     "exception": false,
     "start_time": "2020-11-21T21:55:35.876609",
     "status": "completed"
    },
    "tags": []
   },
   "outputs": [],
   "source": [
    "# plot_samples(X_train_prep, y_train, labels, 30)"
   ]
  },
  {
   "cell_type": "code",
   "execution_count": 21,
   "metadata": {
    "execution": {
     "iopub.execute_input": "2020-11-21T21:55:36.267366Z",
     "iopub.status.busy": "2020-11-21T21:55:36.266492Z",
     "iopub.status.idle": "2020-11-21T21:55:36.268990Z",
     "shell.execute_reply": "2020-11-21T21:55:36.269433Z"
    },
    "papermill": {
     "duration": 0.082334,
     "end_time": "2020-11-21T21:55:36.269559",
     "exception": false,
     "start_time": "2020-11-21T21:55:36.187225",
     "status": "completed"
    },
    "tags": []
   },
   "outputs": [],
   "source": [
    "# set the paramters we want to change randomly\n",
    "demo_datagen = ImageDataGenerator(\n",
    "    rotation_range=15,\n",
    "    width_shift_range=0.05,\n",
    "    height_shift_range=0.05,\n",
    "    rescale=1./255,\n",
    "    shear_range=0.05,\n",
    "    brightness_range=[0.1, 1.5],\n",
    "    horizontal_flip=True,\n",
    "    vertical_flip=True\n",
    ")"
   ]
  },
  {
   "cell_type": "code",
   "execution_count": 22,
   "metadata": {
    "_kg_hide-input": true,
    "execution": {
     "iopub.execute_input": "2020-11-21T21:55:36.427812Z",
     "iopub.status.busy": "2020-11-21T21:55:36.426872Z",
     "iopub.status.idle": "2020-11-21T21:55:36.587136Z",
     "shell.execute_reply": "2020-11-21T21:55:36.586525Z"
    },
    "papermill": {
     "duration": 0.2451,
     "end_time": "2020-11-21T21:55:36.587277",
     "exception": false,
     "start_time": "2020-11-21T21:55:36.342177",
     "status": "completed"
    },
    "tags": []
   },
   "outputs": [],
   "source": [
    "os.mkdir('preview')\n",
    "x = X_train_crop[0]  \n",
    "x = x.reshape((1,) + x.shape) \n",
    "\n",
    "i = 0\n",
    "for batch in demo_datagen.flow(x, batch_size=1, save_to_dir='preview', save_prefix='aug_img', save_format='jpg'):\n",
    "    i += 1\n",
    "    if i > 20:\n",
    "        break "
   ]
  },
  {
   "cell_type": "code",
   "execution_count": null,
   "metadata": {
    "_kg_hide-input": true,
    "execution": {
     "iopub.execute_input": "2020-11-21T21:55:36.768675Z",
     "iopub.status.busy": "2020-11-21T21:55:36.767561Z",
     "iopub.status.idle": "2020-11-21T21:55:38.353947Z",
     "shell.execute_reply": "2020-11-21T21:55:38.354430Z"
    },
    "papermill": {
     "duration": 1.685843,
     "end_time": "2020-11-21T21:55:38.354558",
     "exception": false,
     "start_time": "2020-11-21T21:55:36.668715",
     "status": "completed"
    },
    "tags": []
   },
   "outputs": [],
   "source": [
    "plt.imshow(X_train_crop[0])\n",
    "plt.xticks([])\n",
    "plt.yticks([])\n",
    "plt.title('Original Image')\n",
    "plt.show()\n",
    "\n",
    "plt.figure(figsize=(15,6))\n",
    "i = 1\n",
    "for img in os.listdir('preview/'):\n",
    "    img = cv2.cv2.imread('preview/' + img)\n",
    "    img = cv2.cvtColor(img, cv2.COLOR_BGR2RGB)\n",
    "    plt.subplot(3,7,i)\n",
    "    plt.imshow(img)\n",
    "    plt.xticks([])\n",
    "    plt.yticks([])\n",
    "    i += 1\n",
    "    if i > 3*7:\n",
    "        break\n",
    "plt.suptitle('Augemented Images')\n",
    "plt.show()"
   ]
  },
  {
   "cell_type": "code",
   "execution_count": 24,
   "metadata": {
    "_kg_hide-input": true,
    "execution": {
     "iopub.execute_input": "2020-11-21T21:55:38.536461Z",
     "iopub.status.busy": "2020-11-21T21:55:38.535547Z",
     "iopub.status.idle": "2020-11-21T21:55:39.257622Z",
     "shell.execute_reply": "2020-11-21T21:55:39.256484Z"
    },
    "papermill": {
     "duration": 0.812472,
     "end_time": "2020-11-21T21:55:39.257748",
     "exception": false,
     "start_time": "2020-11-21T21:55:38.445276",
     "status": "completed"
    },
    "tags": []
   },
   "outputs": [],
   "source": [
    "!rm -rf preview/"
   ]
  },
  {
   "cell_type": "code",
   "execution_count": 25,
   "metadata": {
    "execution": {
     "iopub.execute_input": "2020-11-21T21:55:39.629034Z",
     "iopub.status.busy": "2020-11-21T21:55:39.628306Z",
     "iopub.status.idle": "2020-11-21T21:55:39.841912Z",
     "shell.execute_reply": "2020-11-21T21:55:39.842449Z"
    },
    "papermill": {
     "duration": 0.315863,
     "end_time": "2020-11-21T21:55:39.842583",
     "exception": false,
     "start_time": "2020-11-21T21:55:39.526720",
     "status": "completed"
    },
    "tags": []
   },
   "outputs": [
    {
     "name": "stdout",
     "output_type": "stream",
     "text": [
      "Found 2000 images belonging to 2 classes.\n",
      "Found 600 images belonging to 2 classes.\n"
     ]
    }
   ],
   "source": [
    "TRAIN_DIR = 'TRAIN_CROP/'\n",
    "VAL_DIR = 'VAL_CROP/'\n",
    "\n",
    "train_datagen = ImageDataGenerator(\n",
    "    rotation_range=15,\n",
    "    width_shift_range=0.1,\n",
    "    height_shift_range=0.1,\n",
    "    shear_range=0.1,\n",
    "    brightness_range=[0.5, 1.5],\n",
    "    horizontal_flip=True,\n",
    "    vertical_flip=True,\n",
    "    preprocessing_function=preprocess_input\n",
    ")\n",
    "\n",
    "test_datagen = ImageDataGenerator(\n",
    "    preprocessing_function=preprocess_input\n",
    ")\n",
    "\n",
    "\n",
    "train_generator = train_datagen.flow_from_directory(\n",
    "    TRAIN_DIR,\n",
    "    color_mode='rgb',\n",
    "    target_size=IMG_SIZE,\n",
    "    batch_size=32,\n",
    "    class_mode='binary',\n",
    "    seed=RANDOM_SEED\n",
    ")\n",
    "\n",
    "\n",
    "validation_generator = test_datagen.flow_from_directory(\n",
    "    VAL_DIR,\n",
    "    color_mode='rgb',\n",
    "    target_size=IMG_SIZE,\n",
    "    batch_size=16,\n",
    "    class_mode='binary',\n",
    "    seed=RANDOM_SEED\n",
    ")"
   ]
  },
  {
   "cell_type": "code",
   "execution_count": 26,
   "metadata": {
    "execution": {
     "iopub.execute_input": "2020-11-21T21:55:40.390525Z",
     "iopub.status.busy": "2020-11-21T21:55:40.389775Z",
     "iopub.status.idle": "2020-11-21T21:55:44.864084Z",
     "shell.execute_reply": "2020-11-21T21:55:44.863244Z"
    },
    "papermill": {
     "duration": 4.570323,
     "end_time": "2020-11-21T21:55:44.864220",
     "exception": false,
     "start_time": "2020-11-21T21:55:40.293897",
     "status": "completed"
    },
    "tags": []
   },
   "outputs": [
    {
     "name": "stdout",
     "output_type": "stream",
     "text": [
      "Downloading data from https://storage.googleapis.com/tensorflow/keras-applications/vgg16/vgg16_weights_tf_dim_ordering_tf_kernels_notop.h5\n",
      "58892288/58889256 [==============================] - 1s 0us/step\n"
     ]
    }
   ],
   "source": [
    "# load base model\n",
    "vgg = VGG16(\n",
    "    weights='imagenet',\n",
    "    include_top=False, \n",
    "    input_shape=IMG_SIZE + (3,)\n",
    ")"
   ]
  },
  {
   "cell_type": "code",
   "execution_count": null,
   "metadata": {
    "execution": {
     "iopub.execute_input": "2020-11-21T21:55:45.067989Z",
     "iopub.status.busy": "2020-11-21T21:55:45.067229Z",
     "iopub.status.idle": "2020-11-21T21:55:59.366679Z",
     "shell.execute_reply": "2020-11-21T21:55:59.367523Z"
    },
    "papermill": {
     "duration": 14.409789,
     "end_time": "2020-11-21T21:55:59.367714",
     "exception": false,
     "start_time": "2020-11-21T21:55:44.957925",
     "status": "completed"
    },
    "tags": []
   },
   "outputs": [],
   "source": [
    "f = plt.figure(figsize=(16,16))\n",
    "# load the modelf = plt.figure(figsize=(10,3))\n",
    "model = VGG16()\n",
    "# redefine model to output right after the first hidden layer\n",
    "model = Model(inputs=model.inputs, outputs=model.layers[1].output)\n",
    "model.summary()\n",
    "# load the image with the required shape\n",
    "# convert the image to an array\n",
    "img = img_to_array(X_val_prep[43])\n",
    "# expand dimensions so that it represents a single 'sample'\n",
    "img = expand_dims(img, axis=0)\n",
    "# prepare the image (e.g. scale pixel values for the vgg)\n",
    "img = preprocess_input(img)\n",
    "# get feature map for first hidden layer\n",
    "feature_maps = model.predict(img)\n",
    "# plot all 64 maps in an 8x8 squares\n",
    "square = 8\n",
    "ix = 1\n",
    "for _ in range(square):\n",
    "\tfor _ in range(square):\n",
    "\t\t# specify subplot and turn of axis\n",
    "\t\tax = pyplot.subplot(square, square, ix)\n",
    "\t\tax.set_xticks([])\n",
    "\t\tax.set_yticks([])\n",
    "\t\t# plot filter channel in grayscale\n",
    "\t\tpyplot.imshow(feature_maps[0, :, :, ix-1], cmap='viridis')\n",
    "\t\tix += 1\n",
    "# show the figure\n",
    "pyplot.show()\n"
   ]
  },
  {
   "cell_type": "code",
   "execution_count": 28,
   "metadata": {
    "execution": {
     "iopub.execute_input": "2020-11-21T21:55:59.739339Z",
     "iopub.status.busy": "2020-11-21T21:55:59.738157Z",
     "iopub.status.idle": "2020-11-21T21:55:59.846430Z",
     "shell.execute_reply": "2020-11-21T21:55:59.845852Z"
    },
    "papermill": {
     "duration": 0.289429,
     "end_time": "2020-11-21T21:55:59.846558",
     "exception": false,
     "start_time": "2020-11-21T21:55:59.557129",
     "status": "completed"
    },
    "tags": []
   },
   "outputs": [
    {
     "name": "stdout",
     "output_type": "stream",
     "text": [
      "Model: \"sequential\"\n",
      "_________________________________________________________________\n",
      "Layer (type)                 Output Shape              Param #   \n",
      "=================================================================\n",
      "vgg16 (Functional)           (None, 7, 7, 512)         14714688  \n",
      "_________________________________________________________________\n",
      "max_pooling2d (MaxPooling2D) (None, 3, 3, 512)         0         \n",
      "_________________________________________________________________\n",
      "flatten (Flatten)            (None, 4608)              0         \n",
      "_________________________________________________________________\n",
      "dropout (Dropout)            (None, 4608)              0         \n",
      "_________________________________________________________________\n",
      "dense (Dense)                (None, 1)                 4609      \n",
      "=================================================================\n",
      "Total params: 14,719,297\n",
      "Trainable params: 4,609\n",
      "Non-trainable params: 14,714,688\n",
      "_________________________________________________________________\n"
     ]
    }
   ],
   "source": [
    "NUM_CLASSES = 1\n",
    "\n",
    "vgg16 = Sequential()\n",
    "vgg16.add(vgg)\n",
    "vgg16.add(layers.MaxPooling2D(pool_size=(2,2)))\n",
    "vgg16.add(layers.Flatten())\n",
    "vgg16.add(layers.Dropout(0.2))\n",
    "vgg16.add(layers.Dense(NUM_CLASSES, activation='sigmoid'))\n",
    "\n",
    "vgg16.layers[0].trainable = False\n",
    "\n",
    "vgg16.compile(\n",
    "    loss='binary_crossentropy',\n",
    "    optimizer=RMSprop(lr=1e-4),\n",
    "    metrics=['accuracy']\n",
    ")\n",
    "vgg16.compile(loss='binary_crossentropy', optimizer=keras.optimizers.Adam(lr=0.0005, beta_1=0.9, beta_2=0.999, epsilon=None, decay=0.0, amsgrad=False), metrics=[\"accuracy\"])\n",
    "\n",
    "vgg16.summary()"
   ]
  },
  {
   "cell_type": "code",
   "execution_count": null,
   "metadata": {
    "execution": {
     "iopub.execute_input": "2020-11-21T21:56:00.172149Z",
     "iopub.status.busy": "2020-11-21T21:56:00.171120Z",
     "iopub.status.idle": "2020-11-21T21:56:31.415101Z",
     "shell.execute_reply": "2020-11-21T21:56:31.415741Z"
    },
    "papermill": {
     "duration": 31.417504,
     "end_time": "2020-11-21T21:56:31.415942",
     "exception": false,
     "start_time": "2020-11-21T21:55:59.998438",
     "status": "completed"
    },
    "tags": []
   },
   "outputs": [],
   "source": [
    "# load the model\n",
    "model = VGG16()\n",
    "# redefine model to output right after the first hidden layer\n",
    "ixs = [2, 5, 9, 13, 17]\n",
    "outputs = [model.layers[i].output for i in ixs]\n",
    "model = Model(inputs=model.inputs, outputs=outputs)\n",
    "# load the image with the required shape\n",
    "# convert the image to an array\n",
    "img = img_to_array(X_val_prep[43])\n",
    "# expand dimensions so that it represents a single 'sample'\n",
    "img = expand_dims(img, axis=0)\n",
    "# prepare the image (e.g. scale pixel values for the vgg)\n",
    "img = preprocess_input(img)\n",
    "# get feature map for first hidden layer\n",
    "feature_maps = model.predict(img)\n",
    "# plot the output from each block\n",
    "square = 8\n",
    "for fmap in feature_maps:\n",
    "\t# plot all 64 maps in an 8x8 squares\n",
    "\tix = 1\n",
    "\tfor _ in range(square):\n",
    "\t\tplt.figure(figsize=(64,64))\n",
    "\t\tfor _ in range(square):\n",
    "           \n",
    "\n",
    "\t\t\t# specify subplot and turn of axis\n",
    "\t\t\tax = pyplot.subplot(square, square, ix)\n",
    "\t\t\tax.set_xticks([])\n",
    "\t\t\tax.set_yticks([])\n",
    "\t\t\t\n",
    "\t\t\t# plot filter channel in grayscale\n",
    "\t\t\tplt.imshow(fmap[0, :, :, ix-1], cmap='viridis')\n",
    "\t\t\tix += 1\n",
    "\t# show the figure\n",
    "       \n",
    "\tplt.show()"
   ]
  },
  {
   "cell_type": "code",
   "execution_count": 30,
   "metadata": {
    "execution": {
     "iopub.execute_input": "2020-11-21T21:56:32.797705Z",
     "iopub.status.busy": "2020-11-21T21:56:32.786332Z",
     "iopub.status.idle": "2020-11-21T21:56:32.917126Z",
     "shell.execute_reply": "2020-11-21T21:56:32.915796Z"
    },
    "papermill": {
     "duration": 0.857519,
     "end_time": "2020-11-21T21:56:32.917315",
     "exception": false,
     "start_time": "2020-11-21T21:56:32.059796",
     "status": "completed"
    },
    "tags": []
   },
   "outputs": [],
   "source": [
    "vgg16.load_weights('../input/brain-tumor-detection-br35h/VGG16_model.h5')"
   ]
  },
  {
   "cell_type": "code",
   "execution_count": 31,
   "metadata": {
    "_kg_hide-output": true,
    "execution": {
     "iopub.execute_input": "2020-11-21T21:56:33.957743Z",
     "iopub.status.busy": "2020-11-21T21:56:33.956606Z",
     "iopub.status.idle": "2020-11-21T21:57:12.264284Z",
     "shell.execute_reply": "2020-11-21T21:57:12.265112Z"
    },
    "papermill": {
     "duration": 38.836415,
     "end_time": "2020-11-21T21:57:12.265375",
     "exception": false,
     "start_time": "2020-11-21T21:56:33.428960",
     "status": "completed"
    },
    "tags": []
   },
   "outputs": [
    {
     "name": "stdout",
     "output_type": "stream",
     "text": [
      "Epoch 1/128\n",
      "63/64 [============================>.] - 36s 569ms/step - loss: 1.6997 - accuracy: 0.8310 - val_loss: 0.8565 - val_accuracy: 0.9146\n",
      "38.30279064178467\n"
     ]
    }
   ],
   "source": [
    "es = EarlyStopping(\n",
    "    monitor='val_acc', \n",
    "    mode='max',\n",
    "    patience=6\n",
    ")\n",
    "\n",
    "\n",
    "import time\n",
    "start = time.time()\n",
    "\n",
    "vgg16_history = vgg16.fit_generator(\n",
    "    train_generator,\n",
    "    steps_per_epoch=64,\n",
    "    epochs=EPOCHS,\n",
    "    validation_data=validation_generator,\n",
    "    validation_steps=30,\n",
    "    callbacks=[es]\n",
    ")\n",
    "\n",
    "end = time.time()\n",
    "print(end - start)"
   ]
  },
  {
   "cell_type": "code",
   "execution_count": null,
   "metadata": {
    "_kg_hide-input": true,
    "execution": {
     "iopub.execute_input": "2020-11-21T21:57:14.529569Z",
     "iopub.status.busy": "2020-11-21T21:57:14.528532Z",
     "iopub.status.idle": "2020-11-21T21:57:14.987356Z",
     "shell.execute_reply": "2020-11-21T21:57:14.986458Z"
    },
    "papermill": {
     "duration": 1.024911,
     "end_time": "2020-11-21T21:57:14.987516",
     "exception": false,
     "start_time": "2020-11-21T21:57:13.962605",
     "status": "completed"
    },
    "tags": []
   },
   "outputs": [],
   "source": [
    "# plot model performance\n",
    "acc = vgg16_history.history['accuracy']\n",
    "val_acc = vgg16_history.history['val_accuracy']\n",
    "loss = vgg16_history.history['loss']\n",
    "val_loss = vgg16_history.history['val_loss']\n",
    "epochs_range = range(1, len(vgg16_history.epoch) + 1)\n",
    "\n",
    "plt.figure(figsize=(15,5))\n",
    "\n",
    "plt.subplot(1, 2, 1)\n",
    "plt.plot(epochs_range, acc, label='Train Set')\n",
    "plt.plot(epochs_range, val_acc, label='Val Set')\n",
    "plt.legend(loc=\"best\")\n",
    "plt.xlabel('Epochs')\n",
    "plt.ylabel('Accuracy')\n",
    "plt.title('Model Accuracy')\n",
    "\n",
    "plt.subplot(1, 2, 2)\n",
    "plt.plot(epochs_range, loss, label='Train Set')\n",
    "plt.plot(epochs_range, val_loss, label='Val Set')\n",
    "plt.legend(loc=\"best\")\n",
    "plt.xlabel('Epochs')\n",
    "plt.ylabel('Loss')\n",
    "plt.title('Model Loss')\n",
    "\n",
    "plt.tight_layout()\n",
    "plt.show()"
   ]
  },
  {
   "cell_type": "code",
   "execution_count": null,
   "metadata": {
    "execution": {
     "iopub.execute_input": "2020-11-21T21:57:16.138990Z",
     "iopub.status.busy": "2020-11-21T21:57:16.137835Z",
     "iopub.status.idle": "2020-11-21T21:57:18.679352Z",
     "shell.execute_reply": "2020-11-21T21:57:18.678458Z"
    },
    "papermill": {
     "duration": 3.102476,
     "end_time": "2020-11-21T21:57:18.679517",
     "exception": false,
     "start_time": "2020-11-21T21:57:15.577041",
     "status": "completed"
    },
    "tags": []
   },
   "outputs": [],
   "source": [
    "# validate on val set\n",
    "predictions = vgg16.predict(X_val_prep)\n",
    "predictions = [1 if x>0.5 else 0 for x in predictions]\n",
    "\n",
    "accuracy = accuracy_score(y_val, predictions)\n",
    "print('Val Accuracy = %.2f' % accuracy)\n",
    "\n",
    "confusion_mtx = confusion_matrix(y_val, predictions) \n",
    "cm = plot_confusion_matrix(confusion_mtx, classes = list(labels.items()), normalize=False)"
   ]
  },
  {
   "cell_type": "code",
   "execution_count": null,
   "metadata": {
    "execution": {
     "iopub.execute_input": "2020-11-21T21:57:19.829809Z",
     "iopub.status.busy": "2020-11-21T21:57:19.828703Z",
     "iopub.status.idle": "2020-11-21T21:57:21.009035Z",
     "shell.execute_reply": "2020-11-21T21:57:21.009565Z"
    },
    "papermill": {
     "duration": 1.752012,
     "end_time": "2020-11-21T21:57:21.009721",
     "exception": false,
     "start_time": "2020-11-21T21:57:19.257709",
     "status": "completed"
    },
    "tags": []
   },
   "outputs": [],
   "source": [
    "# validate on test set\n",
    "predictions = vgg16.predict(X_test_prep)\n",
    "predictions = [1 if x>0.5 else 0 for x in predictions]\n",
    "\n",
    "accuracy = accuracy_score(y_test, predictions)\n",
    "print('Test Accuracy = %.2f' % accuracy)\n",
    "\n",
    "confusion_mtx = confusion_matrix(y_test, predictions) \n",
    "cm = plot_confusion_matrix(confusion_mtx, classes = list(labels.items()), normalize=False)"
   ]
  },
  {
   "cell_type": "markdown",
   "metadata": {
    "papermill": {
     "duration": 0.551526,
     "end_time": "2020-11-21T21:57:22.114336",
     "exception": false,
     "start_time": "2020-11-21T21:57:21.562810",
     "status": "completed"
    },
    "tags": []
   },
   "source": [
    "Now let's take a look at the images from the `test set` that were misclassified:"
   ]
  },
  {
   "cell_type": "code",
   "execution_count": null,
   "metadata": {
    "_kg_hide-input": true,
    "execution": {
     "iopub.execute_input": "2020-11-21T21:57:23.185856Z",
     "iopub.status.busy": "2020-11-21T21:57:23.184799Z",
     "iopub.status.idle": "2020-11-21T21:57:25.942834Z",
     "shell.execute_reply": "2020-11-21T21:57:25.943395Z"
    },
    "papermill": {
     "duration": 3.302492,
     "end_time": "2020-11-21T21:57:25.943547",
     "exception": false,
     "start_time": "2020-11-21T21:57:22.641055",
     "status": "completed"
    },
    "tags": []
   },
   "outputs": [],
   "source": [
    "ind_list = np.argwhere((y_test == predictions) == False)[:, -1]\n",
    "if ind_list.size == 0:\n",
    "    print('There are no missclassified images.')\n",
    "else:\n",
    "    for i in ind_list:\n",
    "        plt.figure()\n",
    "        plt.imshow(X_test_crop[i])\n",
    "        plt.xticks([])\n",
    "        plt.yticks([])\n",
    "        plt.title(f'Actual class: {y_val[i]}\\nPredicted class: {predictions[i]}')\n",
    "        plt.show()"
   ]
  }
 ],
 "metadata": {
  "kernelspec": {
   "display_name": "Python 3",
   "language": "python",
   "name": "python3"
  },
  "language_info": {
   "codemirror_mode": {
    "name": "ipython",
    "version": 3
   },
   "file_extension": ".py",
   "mimetype": "text/x-python",
   "name": "python",
   "nbconvert_exporter": "python",
   "pygments_lexer": "ipython3",
   "version": "3.7.6"
  },
  "papermill": {
   "duration": 6140.537376,
   "end_time": "2020-11-21T23:36:42.604001",
   "environment_variables": {},
   "exception": null,
   "input_path": "__notebook__.ipynb",
   "output_path": "__notebook__.ipynb",
   "parameters": {},
   "start_time": "2020-11-21T21:54:22.066625",
   "version": "2.1.0"
  }
 },
 "nbformat": 4,
 "nbformat_minor": 4
}
